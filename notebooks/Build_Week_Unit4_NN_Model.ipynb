{
  "nbformat": 4,
  "nbformat_minor": 0,
  "metadata": {
    "colab": {
      "name": " Build_Week_Unit4_NN_Model.ipynb",
      "provenance": [],
      "collapsed_sections": []
    },
    "kernelspec": {
      "name": "python3",
      "display_name": "Python 3"
    },
    "accelerator": "GPU"
  },
  "cells": [
    {
      "cell_type": "markdown",
      "metadata": {
        "id": "xUhlJB1MZYoy"
      },
      "source": [
        "## Import Statements"
      ]
    },
    {
      "cell_type": "code",
      "metadata": {
        "id": "PVEzsFQWNN4G"
      },
      "source": [
        "import pandas as pd\n",
        "import numpy as np\n",
        "import requests\n",
        "import spacy\n",
        "import os\n",
        "import tensorflow as tf\n",
        "\n",
        "import tensorflow as tf\n",
        "from tensorflow import keras\n",
        "from sklearn.pipeline import Pipeline\n",
        "from tensorflow.keras import Sequential, regularizers\n",
        "from tensorflow.keras.optimizers import SGD, Adam, Adagrad, Nadam\n",
        "from tensorflow.keras.models import Sequential\n",
        "from tensorflow.keras.layers import Dense, Dropout, BatchNormalization, Flatten, ReLU\n",
        "from tensorflow.keras.activations import sigmoid, softmax, relu\n",
        "from tensorflow.keras.callbacks import EarlyStopping, TensorBoard\n",
        "\n",
        "from spacy.tokenizer import Tokenizer\n",
        "from sklearn.pipeline import Pipeline\n",
        "from sklearn.neighbors import NearestNeighbors\n",
        "from gensim.models import LdaMulticore\n",
        "from gensim.corpora import Dictionary\n",
        "\n",
        "from sklearn.preprocessing import LabelEncoder\n",
        "from sklearn.pipeline import Pipeline\n",
        "\n",
        "import re, string, timeit\n",
        "# from sklearn.feature_extraction.text import TfidfVectorizer\n",
        "# from sklearn.neighbors import KNeighborsClassifier\n",
        "# from sklearn.model_selection import GridSearchCV\n",
        "\n",
        "# import gensim\n",
        "# import gensim.corpora as corpora\n",
        "# from gensim.utils import simple_preprocess\n",
        "# from gensim.models import CoherenceModel\n",
        "# import pyLDAvis\n",
        "# import pyLDAvis.gensim \n",
        "import matplotlib.pyplot as plt"
      ],
      "execution_count": null,
      "outputs": []
    },
    {
      "cell_type": "markdown",
      "metadata": {
        "id": "n1vTeUYeZbYr"
      },
      "source": [
        "## Import data"
      ]
    },
    {
      "cell_type": "code",
      "metadata": {
        "id": "B3HFuTGpNTwT"
      },
      "source": [
        "PATH = '/content/listings_summary.csv'"
      ],
      "execution_count": null,
      "outputs": []
    },
    {
      "cell_type": "code",
      "metadata": {
        "id": "35zFk-59WTH0"
      },
      "source": [
        "listings = pd.read_csv(PATH, index_col='id')"
      ],
      "execution_count": null,
      "outputs": []
    },
    {
      "cell_type": "code",
      "metadata": {
        "id": "ElPfrBD5WXwL",
        "colab": {
          "base_uri": "https://localhost:8080/",
          "height": 743
        },
        "outputId": "7a68e3a6-bb24-4c13-a03f-8c822a06e884"
      },
      "source": [
        "listings.head()"
      ],
      "execution_count": null,
      "outputs": [
        {
          "output_type": "execute_result",
          "data": {
            "text/html": [
              "<div>\n",
              "<style scoped>\n",
              "    .dataframe tbody tr th:only-of-type {\n",
              "        vertical-align: middle;\n",
              "    }\n",
              "\n",
              "    .dataframe tbody tr th {\n",
              "        vertical-align: top;\n",
              "    }\n",
              "\n",
              "    .dataframe thead th {\n",
              "        text-align: right;\n",
              "    }\n",
              "</style>\n",
              "<table border=\"1\" class=\"dataframe\">\n",
              "  <thead>\n",
              "    <tr style=\"text-align: right;\">\n",
              "      <th></th>\n",
              "      <th>listing_url</th>\n",
              "      <th>scrape_id</th>\n",
              "      <th>last_scraped</th>\n",
              "      <th>name</th>\n",
              "      <th>summary</th>\n",
              "      <th>space</th>\n",
              "      <th>description</th>\n",
              "      <th>experiences_offered</th>\n",
              "      <th>neighborhood_overview</th>\n",
              "      <th>notes</th>\n",
              "      <th>transit</th>\n",
              "      <th>access</th>\n",
              "      <th>interaction</th>\n",
              "      <th>house_rules</th>\n",
              "      <th>thumbnail_url</th>\n",
              "      <th>medium_url</th>\n",
              "      <th>picture_url</th>\n",
              "      <th>xl_picture_url</th>\n",
              "      <th>host_id</th>\n",
              "      <th>host_url</th>\n",
              "      <th>host_name</th>\n",
              "      <th>host_since</th>\n",
              "      <th>host_location</th>\n",
              "      <th>host_about</th>\n",
              "      <th>host_response_time</th>\n",
              "      <th>host_response_rate</th>\n",
              "      <th>host_acceptance_rate</th>\n",
              "      <th>host_is_superhost</th>\n",
              "      <th>host_thumbnail_url</th>\n",
              "      <th>host_picture_url</th>\n",
              "      <th>host_neighbourhood</th>\n",
              "      <th>host_listings_count</th>\n",
              "      <th>host_total_listings_count</th>\n",
              "      <th>host_verifications</th>\n",
              "      <th>host_has_profile_pic</th>\n",
              "      <th>host_identity_verified</th>\n",
              "      <th>street</th>\n",
              "      <th>neighbourhood</th>\n",
              "      <th>neighbourhood_cleansed</th>\n",
              "      <th>neighbourhood_group_cleansed</th>\n",
              "      <th>...</th>\n",
              "      <th>beds</th>\n",
              "      <th>bed_type</th>\n",
              "      <th>amenities</th>\n",
              "      <th>square_feet</th>\n",
              "      <th>price</th>\n",
              "      <th>weekly_price</th>\n",
              "      <th>monthly_price</th>\n",
              "      <th>security_deposit</th>\n",
              "      <th>cleaning_fee</th>\n",
              "      <th>guests_included</th>\n",
              "      <th>extra_people</th>\n",
              "      <th>minimum_nights</th>\n",
              "      <th>maximum_nights</th>\n",
              "      <th>calendar_updated</th>\n",
              "      <th>has_availability</th>\n",
              "      <th>availability_30</th>\n",
              "      <th>availability_60</th>\n",
              "      <th>availability_90</th>\n",
              "      <th>availability_365</th>\n",
              "      <th>calendar_last_scraped</th>\n",
              "      <th>number_of_reviews</th>\n",
              "      <th>first_review</th>\n",
              "      <th>last_review</th>\n",
              "      <th>review_scores_rating</th>\n",
              "      <th>review_scores_accuracy</th>\n",
              "      <th>review_scores_cleanliness</th>\n",
              "      <th>review_scores_checkin</th>\n",
              "      <th>review_scores_communication</th>\n",
              "      <th>review_scores_location</th>\n",
              "      <th>review_scores_value</th>\n",
              "      <th>requires_license</th>\n",
              "      <th>license</th>\n",
              "      <th>jurisdiction_names</th>\n",
              "      <th>instant_bookable</th>\n",
              "      <th>is_business_travel_ready</th>\n",
              "      <th>cancellation_policy</th>\n",
              "      <th>require_guest_profile_picture</th>\n",
              "      <th>require_guest_phone_verification</th>\n",
              "      <th>calculated_host_listings_count</th>\n",
              "      <th>reviews_per_month</th>\n",
              "    </tr>\n",
              "    <tr>\n",
              "      <th>id</th>\n",
              "      <th></th>\n",
              "      <th></th>\n",
              "      <th></th>\n",
              "      <th></th>\n",
              "      <th></th>\n",
              "      <th></th>\n",
              "      <th></th>\n",
              "      <th></th>\n",
              "      <th></th>\n",
              "      <th></th>\n",
              "      <th></th>\n",
              "      <th></th>\n",
              "      <th></th>\n",
              "      <th></th>\n",
              "      <th></th>\n",
              "      <th></th>\n",
              "      <th></th>\n",
              "      <th></th>\n",
              "      <th></th>\n",
              "      <th></th>\n",
              "      <th></th>\n",
              "      <th></th>\n",
              "      <th></th>\n",
              "      <th></th>\n",
              "      <th></th>\n",
              "      <th></th>\n",
              "      <th></th>\n",
              "      <th></th>\n",
              "      <th></th>\n",
              "      <th></th>\n",
              "      <th></th>\n",
              "      <th></th>\n",
              "      <th></th>\n",
              "      <th></th>\n",
              "      <th></th>\n",
              "      <th></th>\n",
              "      <th></th>\n",
              "      <th></th>\n",
              "      <th></th>\n",
              "      <th></th>\n",
              "      <th></th>\n",
              "      <th></th>\n",
              "      <th></th>\n",
              "      <th></th>\n",
              "      <th></th>\n",
              "      <th></th>\n",
              "      <th></th>\n",
              "      <th></th>\n",
              "      <th></th>\n",
              "      <th></th>\n",
              "      <th></th>\n",
              "      <th></th>\n",
              "      <th></th>\n",
              "      <th></th>\n",
              "      <th></th>\n",
              "      <th></th>\n",
              "      <th></th>\n",
              "      <th></th>\n",
              "      <th></th>\n",
              "      <th></th>\n",
              "      <th></th>\n",
              "      <th></th>\n",
              "      <th></th>\n",
              "      <th></th>\n",
              "      <th></th>\n",
              "      <th></th>\n",
              "      <th></th>\n",
              "      <th></th>\n",
              "      <th></th>\n",
              "      <th></th>\n",
              "      <th></th>\n",
              "      <th></th>\n",
              "      <th></th>\n",
              "      <th></th>\n",
              "      <th></th>\n",
              "      <th></th>\n",
              "      <th></th>\n",
              "      <th></th>\n",
              "      <th></th>\n",
              "      <th></th>\n",
              "      <th></th>\n",
              "    </tr>\n",
              "  </thead>\n",
              "  <tbody>\n",
              "    <tr>\n",
              "      <th>2015</th>\n",
              "      <td>https://www.airbnb.com/rooms/2015</td>\n",
              "      <td>20181107122246</td>\n",
              "      <td>2018-11-07</td>\n",
              "      <td>Berlin-Mitte Value! Quiet courtyard/very central</td>\n",
              "      <td>Great location!  30 of 75 sq meters. This wood...</td>\n",
              "      <td>A+++ location! This „Einliegerwohnung“ is an e...</td>\n",
              "      <td>Great location!  30 of 75 sq meters. This wood...</td>\n",
              "      <td>none</td>\n",
              "      <td>It is located in the former East Berlin area o...</td>\n",
              "      <td>This is my home, not a hotel. I rent out occas...</td>\n",
              "      <td>Close to U-Bahn U8 and U2 (metro), Trams M12, ...</td>\n",
              "      <td>Simple kitchen/cooking, refrigerator, microwav...</td>\n",
              "      <td>Always available</td>\n",
              "      <td>No parties No events No pets No smoking, not e...</td>\n",
              "      <td>NaN</td>\n",
              "      <td>NaN</td>\n",
              "      <td>https://a0.muscache.com/im/pictures/260fd609-7...</td>\n",
              "      <td>NaN</td>\n",
              "      <td>2217</td>\n",
              "      <td>https://www.airbnb.com/users/show/2217</td>\n",
              "      <td>Ian</td>\n",
              "      <td>2008-08-18</td>\n",
              "      <td>Key Biscayne, Florida, United States</td>\n",
              "      <td>Believe in sharing economy.</td>\n",
              "      <td>within an hour</td>\n",
              "      <td>96%</td>\n",
              "      <td>NaN</td>\n",
              "      <td>t</td>\n",
              "      <td>https://a0.muscache.com/im/pictures/21428a22-4...</td>\n",
              "      <td>https://a0.muscache.com/im/pictures/21428a22-4...</td>\n",
              "      <td>Mitte</td>\n",
              "      <td>4.0</td>\n",
              "      <td>4.0</td>\n",
              "      <td>['email', 'phone', 'reviews', 'jumio', 'offlin...</td>\n",
              "      <td>t</td>\n",
              "      <td>t</td>\n",
              "      <td>Berlin, Berlin, Germany</td>\n",
              "      <td>Mitte</td>\n",
              "      <td>Brunnenstr. Süd</td>\n",
              "      <td>Mitte</td>\n",
              "      <td>...</td>\n",
              "      <td>2.0</td>\n",
              "      <td>Real Bed</td>\n",
              "      <td>{TV,\"Cable TV\",Wifi,Kitchen,Gym,Heating,\"Famil...</td>\n",
              "      <td>NaN</td>\n",
              "      <td>$60.00</td>\n",
              "      <td>NaN</td>\n",
              "      <td>NaN</td>\n",
              "      <td>$200.00</td>\n",
              "      <td>$30.00</td>\n",
              "      <td>1</td>\n",
              "      <td>$28.00</td>\n",
              "      <td>4</td>\n",
              "      <td>1125</td>\n",
              "      <td>3 months ago</td>\n",
              "      <td>t</td>\n",
              "      <td>0</td>\n",
              "      <td>21</td>\n",
              "      <td>51</td>\n",
              "      <td>141</td>\n",
              "      <td>2018-11-07</td>\n",
              "      <td>118</td>\n",
              "      <td>2016-04-11</td>\n",
              "      <td>2018-10-28</td>\n",
              "      <td>93.0</td>\n",
              "      <td>10.0</td>\n",
              "      <td>9.0</td>\n",
              "      <td>10.0</td>\n",
              "      <td>10.0</td>\n",
              "      <td>10.0</td>\n",
              "      <td>9.0</td>\n",
              "      <td>t</td>\n",
              "      <td>NaN</td>\n",
              "      <td>NaN</td>\n",
              "      <td>f</td>\n",
              "      <td>f</td>\n",
              "      <td>strict_14_with_grace_period</td>\n",
              "      <td>f</td>\n",
              "      <td>f</td>\n",
              "      <td>4</td>\n",
              "      <td>3.76</td>\n",
              "    </tr>\n",
              "    <tr>\n",
              "      <th>2695</th>\n",
              "      <td>https://www.airbnb.com/rooms/2695</td>\n",
              "      <td>20181107122246</td>\n",
              "      <td>2018-11-07</td>\n",
              "      <td>Prenzlauer Berg close to Mauerpark</td>\n",
              "      <td>NaN</td>\n",
              "      <td>In the summertime we are spending most of our ...</td>\n",
              "      <td>In the summertime we are spending most of our ...</td>\n",
              "      <td>none</td>\n",
              "      <td>NaN</td>\n",
              "      <td>NaN</td>\n",
              "      <td>Within walking distance you'll find the S-Bahn...</td>\n",
              "      <td>Außer deinem Zimmer kannst du noch die Küche u...</td>\n",
              "      <td>NaN</td>\n",
              "      <td>NaN</td>\n",
              "      <td>NaN</td>\n",
              "      <td>NaN</td>\n",
              "      <td>https://a0.muscache.com/im/pictures/97d4f6e8-1...</td>\n",
              "      <td>NaN</td>\n",
              "      <td>2986</td>\n",
              "      <td>https://www.airbnb.com/users/show/2986</td>\n",
              "      <td>Michael</td>\n",
              "      <td>2008-09-16</td>\n",
              "      <td>Berlin, Berlin, Germany</td>\n",
              "      <td>Living with my wife in Berlin.  Like travellin...</td>\n",
              "      <td>NaN</td>\n",
              "      <td>NaN</td>\n",
              "      <td>NaN</td>\n",
              "      <td>f</td>\n",
              "      <td>https://a0.muscache.com/im/pictures/50434955-1...</td>\n",
              "      <td>https://a0.muscache.com/im/pictures/50434955-1...</td>\n",
              "      <td>Prenzlauer Berg</td>\n",
              "      <td>1.0</td>\n",
              "      <td>1.0</td>\n",
              "      <td>['email', 'phone', 'reviews', 'jumio', 'govern...</td>\n",
              "      <td>t</td>\n",
              "      <td>t</td>\n",
              "      <td>Berlin, Berlin, Germany</td>\n",
              "      <td>NaN</td>\n",
              "      <td>Prenzlauer Berg Nordwest</td>\n",
              "      <td>Pankow</td>\n",
              "      <td>...</td>\n",
              "      <td>1.0</td>\n",
              "      <td>Real Bed</td>\n",
              "      <td>{Wifi,Kitchen,Elevator,Heating,Washer,Essentia...</td>\n",
              "      <td>NaN</td>\n",
              "      <td>$17.00</td>\n",
              "      <td>NaN</td>\n",
              "      <td>NaN</td>\n",
              "      <td>$0.00</td>\n",
              "      <td>$0.00</td>\n",
              "      <td>1</td>\n",
              "      <td>$0.00</td>\n",
              "      <td>2</td>\n",
              "      <td>40</td>\n",
              "      <td>7 weeks ago</td>\n",
              "      <td>t</td>\n",
              "      <td>0</td>\n",
              "      <td>0</td>\n",
              "      <td>0</td>\n",
              "      <td>0</td>\n",
              "      <td>2018-11-07</td>\n",
              "      <td>6</td>\n",
              "      <td>2018-07-04</td>\n",
              "      <td>2018-10-01</td>\n",
              "      <td>100.0</td>\n",
              "      <td>10.0</td>\n",
              "      <td>10.0</td>\n",
              "      <td>10.0</td>\n",
              "      <td>10.0</td>\n",
              "      <td>10.0</td>\n",
              "      <td>10.0</td>\n",
              "      <td>t</td>\n",
              "      <td>NaN</td>\n",
              "      <td>NaN</td>\n",
              "      <td>f</td>\n",
              "      <td>f</td>\n",
              "      <td>flexible</td>\n",
              "      <td>f</td>\n",
              "      <td>f</td>\n",
              "      <td>1</td>\n",
              "      <td>1.42</td>\n",
              "    </tr>\n",
              "    <tr>\n",
              "      <th>3176</th>\n",
              "      <td>https://www.airbnb.com/rooms/3176</td>\n",
              "      <td>20181107122246</td>\n",
              "      <td>2018-11-07</td>\n",
              "      <td>Fabulous Flat in great Location</td>\n",
              "      <td>This beautiful first floor apartment  is situa...</td>\n",
              "      <td>1st floor (68m2) apartment on Kollwitzplatz/ P...</td>\n",
              "      <td>This beautiful first floor apartment  is situa...</td>\n",
              "      <td>none</td>\n",
              "      <td>The neighbourhood is famous for its variety of...</td>\n",
              "      <td>We welcome FAMILIES and cater especially for y...</td>\n",
              "      <td>We are 5 min walk  away from the tram M2, whic...</td>\n",
              "      <td>The apartment will be entirely yours. We are c...</td>\n",
              "      <td>Feel free to ask any questions prior to bookin...</td>\n",
              "      <td>It’s a non smoking flat, which likes to be tre...</td>\n",
              "      <td>NaN</td>\n",
              "      <td>NaN</td>\n",
              "      <td>https://a0.muscache.com/im/pictures/243355/84a...</td>\n",
              "      <td>NaN</td>\n",
              "      <td>3718</td>\n",
              "      <td>https://www.airbnb.com/users/show/3718</td>\n",
              "      <td>Britta</td>\n",
              "      <td>2008-10-19</td>\n",
              "      <td>Coledale, New South Wales, Australia</td>\n",
              "      <td>We love to travel ourselves a lot and prefer t...</td>\n",
              "      <td>within a day</td>\n",
              "      <td>100%</td>\n",
              "      <td>NaN</td>\n",
              "      <td>f</td>\n",
              "      <td>https://a0.muscache.com/im/users/3718/profile_...</td>\n",
              "      <td>https://a0.muscache.com/im/users/3718/profile_...</td>\n",
              "      <td>Prenzlauer Berg</td>\n",
              "      <td>1.0</td>\n",
              "      <td>1.0</td>\n",
              "      <td>['email', 'phone', 'facebook', 'reviews', 'man...</td>\n",
              "      <td>t</td>\n",
              "      <td>t</td>\n",
              "      <td>Berlin, Berlin, Germany</td>\n",
              "      <td>Prenzlauer Berg</td>\n",
              "      <td>Prenzlauer Berg Südwest</td>\n",
              "      <td>Pankow</td>\n",
              "      <td>...</td>\n",
              "      <td>2.0</td>\n",
              "      <td>Real Bed</td>\n",
              "      <td>{Internet,Wifi,Kitchen,\"Buzzer/wireless interc...</td>\n",
              "      <td>720.0</td>\n",
              "      <td>$90.00</td>\n",
              "      <td>$520.00</td>\n",
              "      <td>$1,900.00</td>\n",
              "      <td>$200.00</td>\n",
              "      <td>$50.00</td>\n",
              "      <td>2</td>\n",
              "      <td>$20.00</td>\n",
              "      <td>62</td>\n",
              "      <td>1125</td>\n",
              "      <td>a week ago</td>\n",
              "      <td>t</td>\n",
              "      <td>0</td>\n",
              "      <td>0</td>\n",
              "      <td>0</td>\n",
              "      <td>220</td>\n",
              "      <td>2018-11-07</td>\n",
              "      <td>143</td>\n",
              "      <td>2009-06-20</td>\n",
              "      <td>2017-03-20</td>\n",
              "      <td>92.0</td>\n",
              "      <td>9.0</td>\n",
              "      <td>9.0</td>\n",
              "      <td>9.0</td>\n",
              "      <td>9.0</td>\n",
              "      <td>10.0</td>\n",
              "      <td>9.0</td>\n",
              "      <td>t</td>\n",
              "      <td>NaN</td>\n",
              "      <td>NaN</td>\n",
              "      <td>t</td>\n",
              "      <td>f</td>\n",
              "      <td>strict_14_with_grace_period</td>\n",
              "      <td>f</td>\n",
              "      <td>f</td>\n",
              "      <td>1</td>\n",
              "      <td>1.25</td>\n",
              "    </tr>\n",
              "    <tr>\n",
              "      <th>3309</th>\n",
              "      <td>https://www.airbnb.com/rooms/3309</td>\n",
              "      <td>20181107122246</td>\n",
              "      <td>2018-11-07</td>\n",
              "      <td>BerlinSpot Schöneberg near KaDeWe</td>\n",
              "      <td>First of all: I prefer short-notice bookings. ...</td>\n",
              "      <td>Your room is really big and has 26 sqm, is ver...</td>\n",
              "      <td>First of all: I prefer short-notice bookings. ...</td>\n",
              "      <td>none</td>\n",
              "      <td>My flat is in the middle of West-Berlin, direc...</td>\n",
              "      <td>The flat is a strictly non-smoking facility! A...</td>\n",
              "      <td>The public transportation is excellent: Severa...</td>\n",
              "      <td>I do have a strictly non-smoker-flat.  Keep th...</td>\n",
              "      <td>I'm working as a freelancing photographer. My ...</td>\n",
              "      <td>House-Rules and Information ..............(deu...</td>\n",
              "      <td>NaN</td>\n",
              "      <td>NaN</td>\n",
              "      <td>https://a0.muscache.com/im/pictures/29054294/b...</td>\n",
              "      <td>NaN</td>\n",
              "      <td>4108</td>\n",
              "      <td>https://www.airbnb.com/users/show/4108</td>\n",
              "      <td>Jana</td>\n",
              "      <td>2008-11-07</td>\n",
              "      <td>Berlin, Berlin, Germany</td>\n",
              "      <td>ENJOY EVERY DAY AS IF IT'S YOUR LAST!!! \\r\\n\\r...</td>\n",
              "      <td>NaN</td>\n",
              "      <td>NaN</td>\n",
              "      <td>NaN</td>\n",
              "      <td>f</td>\n",
              "      <td>https://a0.muscache.com/im/pictures/user/b5938...</td>\n",
              "      <td>https://a0.muscache.com/im/pictures/user/b5938...</td>\n",
              "      <td>Schöneberg</td>\n",
              "      <td>1.0</td>\n",
              "      <td>1.0</td>\n",
              "      <td>['email', 'phone', 'reviews', 'jumio', 'govern...</td>\n",
              "      <td>t</td>\n",
              "      <td>t</td>\n",
              "      <td>Berlin, Berlin, Germany</td>\n",
              "      <td>Schöneberg</td>\n",
              "      <td>Schöneberg-Nord</td>\n",
              "      <td>Tempelhof - Schöneberg</td>\n",
              "      <td>...</td>\n",
              "      <td>1.0</td>\n",
              "      <td>Pull-out Sofa</td>\n",
              "      <td>{Internet,Wifi,\"Pets allowed\",\"Pets live on th...</td>\n",
              "      <td>0.0</td>\n",
              "      <td>$26.00</td>\n",
              "      <td>$175.00</td>\n",
              "      <td>$599.00</td>\n",
              "      <td>$250.00</td>\n",
              "      <td>$30.00</td>\n",
              "      <td>1</td>\n",
              "      <td>$18.00</td>\n",
              "      <td>5</td>\n",
              "      <td>360</td>\n",
              "      <td>4 weeks ago</td>\n",
              "      <td>t</td>\n",
              "      <td>0</td>\n",
              "      <td>0</td>\n",
              "      <td>22</td>\n",
              "      <td>297</td>\n",
              "      <td>2018-11-07</td>\n",
              "      <td>25</td>\n",
              "      <td>2013-08-12</td>\n",
              "      <td>2018-08-16</td>\n",
              "      <td>88.0</td>\n",
              "      <td>9.0</td>\n",
              "      <td>9.0</td>\n",
              "      <td>9.0</td>\n",
              "      <td>10.0</td>\n",
              "      <td>9.0</td>\n",
              "      <td>9.0</td>\n",
              "      <td>t</td>\n",
              "      <td>NaN</td>\n",
              "      <td>NaN</td>\n",
              "      <td>f</td>\n",
              "      <td>f</td>\n",
              "      <td>strict_14_with_grace_period</td>\n",
              "      <td>f</td>\n",
              "      <td>f</td>\n",
              "      <td>1</td>\n",
              "      <td>0.39</td>\n",
              "    </tr>\n",
              "    <tr>\n",
              "      <th>7071</th>\n",
              "      <td>https://www.airbnb.com/rooms/7071</td>\n",
              "      <td>20181107122246</td>\n",
              "      <td>2018-11-07</td>\n",
              "      <td>BrightRoom with sunny greenview!</td>\n",
              "      <td>Cozy and large room in the beautiful district ...</td>\n",
              "      <td>The BrightRoom is an approx. 20 sqm (215ft²), ...</td>\n",
              "      <td>Cozy and large room in the beautiful district ...</td>\n",
              "      <td>none</td>\n",
              "      <td>Great neighborhood with plenty of Cafés, Baker...</td>\n",
              "      <td>I hope you enjoy your stay to the fullest! Ple...</td>\n",
              "      <td>Best access to other parts of the city via pub...</td>\n",
              "      <td>The guests have access to the bathroom, a smal...</td>\n",
              "      <td>I am glad if I can give you advice or help as ...</td>\n",
              "      <td>Please take good care of everything during you...</td>\n",
              "      <td>NaN</td>\n",
              "      <td>NaN</td>\n",
              "      <td>https://a0.muscache.com/im/pictures/21278/32a1...</td>\n",
              "      <td>NaN</td>\n",
              "      <td>17391</td>\n",
              "      <td>https://www.airbnb.com/users/show/17391</td>\n",
              "      <td>Bright</td>\n",
              "      <td>2009-05-16</td>\n",
              "      <td>Berlin, Berlin, Germany</td>\n",
              "      <td>I'm a creative person, adventurer, and travele...</td>\n",
              "      <td>within an hour</td>\n",
              "      <td>100%</td>\n",
              "      <td>NaN</td>\n",
              "      <td>t</td>\n",
              "      <td>https://a0.muscache.com/im/pictures/user/48c3d...</td>\n",
              "      <td>https://a0.muscache.com/im/pictures/user/48c3d...</td>\n",
              "      <td>Prenzlauer Berg</td>\n",
              "      <td>1.0</td>\n",
              "      <td>1.0</td>\n",
              "      <td>['email', 'phone', 'reviews', 'jumio', 'govern...</td>\n",
              "      <td>t</td>\n",
              "      <td>t</td>\n",
              "      <td>Berlin, Berlin, Germany</td>\n",
              "      <td>Prenzlauer Berg</td>\n",
              "      <td>Helmholtzplatz</td>\n",
              "      <td>Pankow</td>\n",
              "      <td>...</td>\n",
              "      <td>2.0</td>\n",
              "      <td>Real Bed</td>\n",
              "      <td>{Wifi,Heating,\"Family/kid friendly\",Essentials...</td>\n",
              "      <td>NaN</td>\n",
              "      <td>$42.00</td>\n",
              "      <td>NaN</td>\n",
              "      <td>NaN</td>\n",
              "      <td>$0.00</td>\n",
              "      <td>$0.00</td>\n",
              "      <td>1</td>\n",
              "      <td>$24.00</td>\n",
              "      <td>2</td>\n",
              "      <td>10</td>\n",
              "      <td>3 days ago</td>\n",
              "      <td>t</td>\n",
              "      <td>15</td>\n",
              "      <td>26</td>\n",
              "      <td>26</td>\n",
              "      <td>26</td>\n",
              "      <td>2018-11-07</td>\n",
              "      <td>197</td>\n",
              "      <td>2009-08-18</td>\n",
              "      <td>2018-11-04</td>\n",
              "      <td>96.0</td>\n",
              "      <td>10.0</td>\n",
              "      <td>10.0</td>\n",
              "      <td>10.0</td>\n",
              "      <td>10.0</td>\n",
              "      <td>10.0</td>\n",
              "      <td>9.0</td>\n",
              "      <td>t</td>\n",
              "      <td>NaN</td>\n",
              "      <td>NaN</td>\n",
              "      <td>f</td>\n",
              "      <td>f</td>\n",
              "      <td>moderate</td>\n",
              "      <td>f</td>\n",
              "      <td>f</td>\n",
              "      <td>1</td>\n",
              "      <td>1.75</td>\n",
              "    </tr>\n",
              "  </tbody>\n",
              "</table>\n",
              "<p>5 rows × 95 columns</p>\n",
              "</div>"
            ],
            "text/plain": [
              "                            listing_url  ...  reviews_per_month\n",
              "id                                       ...                   \n",
              "2015  https://www.airbnb.com/rooms/2015  ...               3.76\n",
              "2695  https://www.airbnb.com/rooms/2695  ...               1.42\n",
              "3176  https://www.airbnb.com/rooms/3176  ...               1.25\n",
              "3309  https://www.airbnb.com/rooms/3309  ...               0.39\n",
              "7071  https://www.airbnb.com/rooms/7071  ...               1.75\n",
              "\n",
              "[5 rows x 95 columns]"
            ]
          },
          "metadata": {
            "tags": []
          },
          "execution_count": 10
        }
      ]
    },
    {
      "cell_type": "code",
      "metadata": {
        "colab": {
          "base_uri": "https://localhost:8080/"
        },
        "id": "_oEG0FaTj2G9",
        "outputId": "8217473c-0ed4-4b48-9e9a-564f8d6e7517"
      },
      "source": [
        "listings.columns"
      ],
      "execution_count": null,
      "outputs": [
        {
          "output_type": "execute_result",
          "data": {
            "text/plain": [
              "Index(['listing_url', 'scrape_id', 'last_scraped', 'name', 'summary', 'space',\n",
              "       'description', 'experiences_offered', 'neighborhood_overview', 'notes',\n",
              "       'transit', 'access', 'interaction', 'house_rules', 'thumbnail_url',\n",
              "       'medium_url', 'picture_url', 'xl_picture_url', 'host_id', 'host_url',\n",
              "       'host_name', 'host_since', 'host_location', 'host_about',\n",
              "       'host_response_time', 'host_response_rate', 'host_acceptance_rate',\n",
              "       'host_is_superhost', 'host_thumbnail_url', 'host_picture_url',\n",
              "       'host_neighbourhood', 'host_listings_count',\n",
              "       'host_total_listings_count', 'host_verifications',\n",
              "       'host_has_profile_pic', 'host_identity_verified', 'street',\n",
              "       'neighbourhood', 'neighbourhood_cleansed',\n",
              "       'neighbourhood_group_cleansed', 'city', 'state', 'zipcode', 'market',\n",
              "       'smart_location', 'country_code', 'country', 'latitude', 'longitude',\n",
              "       'is_location_exact', 'property_type', 'room_type', 'accommodates',\n",
              "       'bathrooms', 'bedrooms', 'beds', 'bed_type', 'amenities', 'square_feet',\n",
              "       'price', 'weekly_price', 'monthly_price', 'security_deposit',\n",
              "       'cleaning_fee', 'guests_included', 'extra_people', 'minimum_nights',\n",
              "       'maximum_nights', 'calendar_updated', 'has_availability',\n",
              "       'availability_30', 'availability_60', 'availability_90',\n",
              "       'availability_365', 'calendar_last_scraped', 'number_of_reviews',\n",
              "       'first_review', 'last_review', 'review_scores_rating',\n",
              "       'review_scores_accuracy', 'review_scores_cleanliness',\n",
              "       'review_scores_checkin', 'review_scores_communication',\n",
              "       'review_scores_location', 'review_scores_value', 'requires_license',\n",
              "       'license', 'jurisdiction_names', 'instant_bookable',\n",
              "       'is_business_travel_ready', 'cancellation_policy',\n",
              "       'require_guest_profile_picture', 'require_guest_phone_verification',\n",
              "       'calculated_host_listings_count', 'reviews_per_month'],\n",
              "      dtype='object')"
            ]
          },
          "metadata": {
            "tags": []
          },
          "execution_count": 11
        }
      ]
    },
    {
      "cell_type": "markdown",
      "metadata": {
        "id": "uynTK3ztZkRB"
      },
      "source": [
        "## Feature Engineering"
      ]
    },
    {
      "cell_type": "code",
      "metadata": {
        "id": "GoBzCGHnabD-",
        "colab": {
          "base_uri": "https://localhost:8080/",
          "height": 35
        },
        "outputId": "46298913-dffc-448e-b26a-c788ae4cdff9"
      },
      "source": [
        "'''\n",
        "INDEX:\n",
        "id\n",
        "\n",
        "property_type\n",
        "beds\n",
        "bathrooms\n",
        "amenities\n",
        "price\n",
        "minimum_nights\n",
        "review_score_rating\n",
        "neighbourhood_group_cleansed\n",
        "\n",
        "BINARY:\n",
        "**host_identity_verified\n",
        "cleaning_fee\n",
        "security_deposit\n",
        "\n",
        "'''"
      ],
      "execution_count": null,
      "outputs": [
        {
          "output_type": "execute_result",
          "data": {
            "application/vnd.google.colaboratory.intrinsic+json": {
              "type": "string"
            },
            "text/plain": [
              "'\\nINDEX:\\nid\\n\\nproperty_type\\nbeds\\nbathrooms\\namenities\\nprice\\nminimum_nights\\nreview_score_rating\\nneighbourhood_group_cleansed\\n\\nBINARY:\\n**host_identity_verified\\ncleaning_fee\\nsecurity_deposit\\n\\n'"
            ]
          },
          "metadata": {
            "tags": []
          },
          "execution_count": 12
        }
      ]
    },
    {
      "cell_type": "code",
      "metadata": {
        "id": "cpEc5F1SW63k"
      },
      "source": [
        "cols = ['beds', 'property_type', 'price', 'description', \n",
        "                'minimum_nights', 'review_scores_rating',\n",
        "                 'neighbourhood_group_cleansed',\n",
        "                 'host_identity_verified', 'cleaning_fee',\n",
        "                 'security_deposit']\n",
        "\n",
        "\n",
        "listings = listings[cols]"
      ],
      "execution_count": null,
      "outputs": []
    },
    {
      "cell_type": "code",
      "metadata": {
        "id": "cU2Tfu6odAk5",
        "colab": {
          "base_uri": "https://localhost:8080/",
          "height": 111
        },
        "outputId": "330c2bc1-bc4d-415f-c3dc-8afaee4ebade"
      },
      "source": [
        "listings.head(1)"
      ],
      "execution_count": null,
      "outputs": [
        {
          "output_type": "execute_result",
          "data": {
            "text/html": [
              "<div>\n",
              "<style scoped>\n",
              "    .dataframe tbody tr th:only-of-type {\n",
              "        vertical-align: middle;\n",
              "    }\n",
              "\n",
              "    .dataframe tbody tr th {\n",
              "        vertical-align: top;\n",
              "    }\n",
              "\n",
              "    .dataframe thead th {\n",
              "        text-align: right;\n",
              "    }\n",
              "</style>\n",
              "<table border=\"1\" class=\"dataframe\">\n",
              "  <thead>\n",
              "    <tr style=\"text-align: right;\">\n",
              "      <th></th>\n",
              "      <th>beds</th>\n",
              "      <th>property_type</th>\n",
              "      <th>price</th>\n",
              "      <th>description</th>\n",
              "      <th>minimum_nights</th>\n",
              "      <th>review_scores_rating</th>\n",
              "      <th>neighbourhood_group_cleansed</th>\n",
              "      <th>host_identity_verified</th>\n",
              "      <th>cleaning_fee</th>\n",
              "      <th>security_deposit</th>\n",
              "    </tr>\n",
              "    <tr>\n",
              "      <th>id</th>\n",
              "      <th></th>\n",
              "      <th></th>\n",
              "      <th></th>\n",
              "      <th></th>\n",
              "      <th></th>\n",
              "      <th></th>\n",
              "      <th></th>\n",
              "      <th></th>\n",
              "      <th></th>\n",
              "      <th></th>\n",
              "    </tr>\n",
              "  </thead>\n",
              "  <tbody>\n",
              "    <tr>\n",
              "      <th>2015</th>\n",
              "      <td>2.0</td>\n",
              "      <td>Guesthouse</td>\n",
              "      <td>$60.00</td>\n",
              "      <td>Great location!  30 of 75 sq meters. This wood...</td>\n",
              "      <td>4</td>\n",
              "      <td>93.0</td>\n",
              "      <td>Mitte</td>\n",
              "      <td>t</td>\n",
              "      <td>$30.00</td>\n",
              "      <td>$200.00</td>\n",
              "    </tr>\n",
              "  </tbody>\n",
              "</table>\n",
              "</div>"
            ],
            "text/plain": [
              "      beds property_type  ... cleaning_fee security_deposit\n",
              "id                        ...                              \n",
              "2015   2.0    Guesthouse  ...       $30.00          $200.00\n",
              "\n",
              "[1 rows x 10 columns]"
            ]
          },
          "metadata": {
            "tags": []
          },
          "execution_count": 14
        }
      ]
    },
    {
      "cell_type": "code",
      "metadata": {
        "id": "UleYscH2huIk"
      },
      "source": [
        "cols = ['cleaning_fee', 'security_deposit']"
      ],
      "execution_count": null,
      "outputs": []
    },
    {
      "cell_type": "code",
      "metadata": {
        "id": "MpMIfY8XZp5o"
      },
      "source": [
        "# remove '$' and ',' so that we can process a monteary amount \n",
        "# as a float, versus an object"
      ],
      "execution_count": null,
      "outputs": []
    },
    {
      "cell_type": "code",
      "metadata": {
        "id": "oVQ_uicth121"
      },
      "source": [
        "listings[cols] = listings[cols].replace({'\\$': '', ',': ''}, regex=True).astype(float)"
      ],
      "execution_count": null,
      "outputs": []
    },
    {
      "cell_type": "code",
      "metadata": {
        "id": "TT8P7ftJ8zDu"
      },
      "source": [
        "listings['price'] = listings['price'].replace({'\\$': '', ',': ''}, regex=True).astype(float)"
      ],
      "execution_count": null,
      "outputs": []
    },
    {
      "cell_type": "code",
      "metadata": {
        "id": "F4S3q5dLiHQ9",
        "colab": {
          "base_uri": "https://localhost:8080/"
        },
        "outputId": "6ff24a2e-2256-42d5-ab89-532801a7105d"
      },
      "source": [
        "listings['cleaning_fee']"
      ],
      "execution_count": null,
      "outputs": [
        {
          "output_type": "execute_result",
          "data": {
            "text/plain": [
              "id\n",
              "2015        30.0\n",
              "2695         0.0\n",
              "3176        50.0\n",
              "3309        30.0\n",
              "7071         0.0\n",
              "            ... \n",
              "29856708     NaN\n",
              "29857108     0.0\n",
              "29864272     NaN\n",
              "29866805     NaN\n",
              "29867352     NaN\n",
              "Name: cleaning_fee, Length: 22552, dtype: float64"
            ]
          },
          "metadata": {
            "tags": []
          },
          "execution_count": 19
        }
      ]
    },
    {
      "cell_type": "code",
      "metadata": {
        "id": "aeAQp-AgXW5y"
      },
      "source": [
        "# create binary column for cleaning fee or not"
      ],
      "execution_count": null,
      "outputs": []
    },
    {
      "cell_type": "code",
      "metadata": {
        "id": "zj7kSAYfdPEK"
      },
      "source": [
        "def binary_fee(x):\n",
        "  if x > 0.0:\n",
        "    return \"Yes\"\n",
        "  else:\n",
        "    return \"No\""
      ],
      "execution_count": null,
      "outputs": []
    },
    {
      "cell_type": "code",
      "metadata": {
        "id": "MGcHaNEXe24_"
      },
      "source": [
        "listings['cleaning_fee_binary'] = listings['cleaning_fee'].apply(binary_fee)"
      ],
      "execution_count": null,
      "outputs": []
    },
    {
      "cell_type": "code",
      "metadata": {
        "id": "o8lYUyZkdjEC",
        "colab": {
          "base_uri": "https://localhost:8080/"
        },
        "outputId": "6e339311-6644-495b-8af2-110f3feccd75"
      },
      "source": [
        "listings['cleaning_fee_binary'].value_counts()"
      ],
      "execution_count": null,
      "outputs": [
        {
          "output_type": "execute_result",
          "data": {
            "text/plain": [
              "Yes    13541\n",
              "No      9011\n",
              "Name: cleaning_fee_binary, dtype: int64"
            ]
          },
          "metadata": {
            "tags": []
          },
          "execution_count": 23
        }
      ]
    },
    {
      "cell_type": "code",
      "metadata": {
        "id": "5rTB6Dzmj9gV"
      },
      "source": [
        "listings['security_deposit_binary'] = listings['security_deposit'].apply(binary_fee)"
      ],
      "execution_count": null,
      "outputs": []
    },
    {
      "cell_type": "code",
      "metadata": {
        "id": "EhW8pi8AkCbU",
        "colab": {
          "base_uri": "https://localhost:8080/"
        },
        "outputId": "730b86c6-2428-4845-aca3-bb17be561034"
      },
      "source": [
        "listings['security_deposit_binary'].value_counts()"
      ],
      "execution_count": null,
      "outputs": [
        {
          "output_type": "execute_result",
          "data": {
            "text/plain": [
              "No     14680\n",
              "Yes     7872\n",
              "Name: security_deposit_binary, dtype: int64"
            ]
          },
          "metadata": {
            "tags": []
          },
          "execution_count": 25
        }
      ]
    },
    {
      "cell_type": "code",
      "metadata": {
        "id": "IgJSpVOpW2TV"
      },
      "source": [
        "# dropping monetary columns because it will overwhelm\n",
        "# our computer later on\n",
        "drop_cols = ['security_deposit', 'cleaning_fee']\n",
        "\n",
        "listings = listings.drop(drop_cols, axis=1)"
      ],
      "execution_count": null,
      "outputs": []
    },
    {
      "cell_type": "code",
      "metadata": {
        "id": "aSNkDco6XCfW",
        "colab": {
          "base_uri": "https://localhost:8080/",
          "height": 142
        },
        "outputId": "a710037a-f2b9-4514-832a-803cbfd6fef5"
      },
      "source": [
        "listings.head(2)"
      ],
      "execution_count": null,
      "outputs": [
        {
          "output_type": "execute_result",
          "data": {
            "text/html": [
              "<div>\n",
              "<style scoped>\n",
              "    .dataframe tbody tr th:only-of-type {\n",
              "        vertical-align: middle;\n",
              "    }\n",
              "\n",
              "    .dataframe tbody tr th {\n",
              "        vertical-align: top;\n",
              "    }\n",
              "\n",
              "    .dataframe thead th {\n",
              "        text-align: right;\n",
              "    }\n",
              "</style>\n",
              "<table border=\"1\" class=\"dataframe\">\n",
              "  <thead>\n",
              "    <tr style=\"text-align: right;\">\n",
              "      <th></th>\n",
              "      <th>beds</th>\n",
              "      <th>property_type</th>\n",
              "      <th>price</th>\n",
              "      <th>description</th>\n",
              "      <th>minimum_nights</th>\n",
              "      <th>review_scores_rating</th>\n",
              "      <th>neighbourhood_group_cleansed</th>\n",
              "      <th>host_identity_verified</th>\n",
              "      <th>cleaning_fee_binary</th>\n",
              "      <th>security_deposit_binary</th>\n",
              "    </tr>\n",
              "    <tr>\n",
              "      <th>id</th>\n",
              "      <th></th>\n",
              "      <th></th>\n",
              "      <th></th>\n",
              "      <th></th>\n",
              "      <th></th>\n",
              "      <th></th>\n",
              "      <th></th>\n",
              "      <th></th>\n",
              "      <th></th>\n",
              "      <th></th>\n",
              "    </tr>\n",
              "  </thead>\n",
              "  <tbody>\n",
              "    <tr>\n",
              "      <th>2015</th>\n",
              "      <td>2.0</td>\n",
              "      <td>Guesthouse</td>\n",
              "      <td>60.0</td>\n",
              "      <td>Great location!  30 of 75 sq meters. This wood...</td>\n",
              "      <td>4</td>\n",
              "      <td>93.0</td>\n",
              "      <td>Mitte</td>\n",
              "      <td>t</td>\n",
              "      <td>Yes</td>\n",
              "      <td>Yes</td>\n",
              "    </tr>\n",
              "    <tr>\n",
              "      <th>2695</th>\n",
              "      <td>1.0</td>\n",
              "      <td>Apartment</td>\n",
              "      <td>17.0</td>\n",
              "      <td>In the summertime we are spending most of our ...</td>\n",
              "      <td>2</td>\n",
              "      <td>100.0</td>\n",
              "      <td>Pankow</td>\n",
              "      <td>t</td>\n",
              "      <td>No</td>\n",
              "      <td>No</td>\n",
              "    </tr>\n",
              "  </tbody>\n",
              "</table>\n",
              "</div>"
            ],
            "text/plain": [
              "      beds property_type  ...  cleaning_fee_binary security_deposit_binary\n",
              "id                        ...                                             \n",
              "2015   2.0    Guesthouse  ...                  Yes                     Yes\n",
              "2695   1.0     Apartment  ...                   No                      No\n",
              "\n",
              "[2 rows x 10 columns]"
            ]
          },
          "metadata": {
            "tags": []
          },
          "execution_count": 27
        }
      ]
    },
    {
      "cell_type": "markdown",
      "metadata": {
        "id": "Z2OrLJ7zCTBR"
      },
      "source": [
        "## NLP and text analysis"
      ]
    },
    {
      "cell_type": "code",
      "metadata": {
        "id": "OjIgDvG6_ape"
      },
      "source": [
        "listings['description'] = listings['description'].astype(str)"
      ],
      "execution_count": null,
      "outputs": []
    },
    {
      "cell_type": "code",
      "metadata": {
        "id": "TH0YHhabkHRX"
      },
      "source": [
        "listings['property_type'] = listings['property_type'].astype(str)"
      ],
      "execution_count": null,
      "outputs": []
    },
    {
      "cell_type": "code",
      "metadata": {
        "id": "a7XTJendlSc5"
      },
      "source": [
        "# downloading the language libraries\n",
        "# %%capture\n",
        "# !python -m spacy download en_core_web_md \n",
        "# !python -m spacy download de_core_news_md\n",
        "# !python -m spacy download xx_ent_wiki_sm"
      ],
      "execution_count": null,
      "outputs": []
    },
    {
      "cell_type": "code",
      "metadata": {
        "id": "_5eEPe3bEW6s"
      },
      "source": [
        "# defining each language library\n",
        "# English\n",
        "# nlp_en = spacy.load('en_core_web_md')\n",
        "# German\n",
        "# nlp_de = spacy.load('de_core_news_md')\n",
        "# Multi\n",
        "# nlp_multi = spacy.load('xx_ent_wiki_sm')"
      ],
      "execution_count": null,
      "outputs": []
    },
    {
      "cell_type": "markdown",
      "metadata": {
        "id": "kqa1-LDsg3oD"
      },
      "source": [
        "### Tfidf Vectorizer (if we wanted a non-NN model to do text analysis)"
      ]
    },
    {
      "cell_type": "code",
      "metadata": {
        "id": "StrthYCMsNEP"
      },
      "source": [
        "# def tokenize(text):\n",
        "    \n",
        "#   lemmas = []  \n",
        "      \n",
        "#   doc = nlp_en(text)\n",
        "\n",
        "#   for token in doc:\n",
        "#     if((token.is_stop == False ) & (token.is_punct == False)):\n",
        "#         lemmas.append(token.lemma_.lower())\n",
        "\n",
        "#   return lemmas"
      ],
      "execution_count": null,
      "outputs": []
    },
    {
      "cell_type": "code",
      "metadata": {
        "id": "9YI44Kv9EAgT"
      },
      "source": [
        "# def proccess_text(text):\n",
        "#   lang = detect_lang(text)\n",
        "#   sent_langs = []\n",
        "#   doc = nlp_en(text)\n",
        "#   for sent in doc.sents:\n",
        "#     lang_pred = sent._.language['language']\n",
        "#     lang = 'de' if lang_pred in ['de', 'nl'] else 'en'\n",
        "#     sent_langs.append((sent.text, lang))\n",
        "#   processed_text = []\n",
        "#   for sent in sent_langs:\n",
        "#     if sent[1] == 'de':\n",
        "#       tokens = [token.lemma_ for token in nlp_de(sent[0])]\n",
        "#     else:\n",
        "#       tokens = [token.lemma_ for token in nlp_en(sent[0])]\n",
        "#     for token in tokens:\n",
        "#       processed_text.append(token)\n",
        "#   return processed_text"
      ],
      "execution_count": null,
      "outputs": []
    },
    {
      "cell_type": "code",
      "metadata": {
        "id": "c-ALxvMsuU5p"
      },
      "source": [
        "# listings['lemmas'] = listings['description'].apply(tokenize)"
      ],
      "execution_count": null,
      "outputs": []
    },
    {
      "cell_type": "code",
      "metadata": {
        "id": "yVpImf0M-AJF"
      },
      "source": [
        "# listings['amenities'][2]"
      ],
      "execution_count": null,
      "outputs": []
    },
    {
      "cell_type": "code",
      "metadata": {
        "id": "Dylh5XU9BWHW"
      },
      "source": [
        "# vects = [nlp_en(string).vector for string in listings['description']]"
      ],
      "execution_count": null,
      "outputs": []
    },
    {
      "cell_type": "code",
      "metadata": {
        "id": "Zyt_LCFO7Y1S"
      },
      "source": [
        "# listings['vects'] = vects "
      ],
      "execution_count": null,
      "outputs": []
    },
    {
      "cell_type": "code",
      "metadata": {
        "id": "Z6YIbcbu8dmz"
      },
      "source": [
        "# pipe = Pipeline([('tfidf', TfidfVectorizer()), ('clf', KNeighborsClassifier())])\n",
        "\n",
        "# pipe.fit(listings['description'], listings['price'])"
      ],
      "execution_count": null,
      "outputs": []
    },
    {
      "cell_type": "code",
      "metadata": {
        "id": "jI-5RRa786bU"
      },
      "source": [
        "# parameters = {\n",
        "#     'tfidf__max_df':(0.25, 0.75, 1),\n",
        "#     'tfidf__ngram_range': [(1, 1), (1, 2), (1, 3)],\n",
        "    \n",
        "# }\n",
        "\n",
        "# grid_search = GridSearchCV(pipe,parameters, cv=5, n_jobs=-1, verbose=1)\n",
        "# grid_search.fit(listings['description'], listings['price'])"
      ],
      "execution_count": null,
      "outputs": []
    },
    {
      "cell_type": "code",
      "metadata": {
        "id": "Ld77_uGr9iN0"
      },
      "source": [
        "# grid_search.best_score_"
      ],
      "execution_count": null,
      "outputs": []
    },
    {
      "cell_type": "code",
      "metadata": {
        "id": "uLpBYwgu-3Uw"
      },
      "source": [
        "# listings['lemmas'][2]"
      ],
      "execution_count": null,
      "outputs": []
    },
    {
      "cell_type": "code",
      "metadata": {
        "id": "fxDL_oRI9mCQ"
      },
      "source": [
        "# test = \"\"\"\n",
        "# My modern 2-bedroom apartment has everything you need for your Berlin trip. \n",
        "# The unit comes with heating, a washer, and free parking.\n",
        "#  During your stay, you can also enjoy using a convenient gym and kitchen. \n",
        "# Our Airbnb is within walking distance to several popular restaurants and shops. \n",
        "# An ideal base to explore Berlin.\n",
        "\n",
        "# \"\"\""
      ],
      "execution_count": null,
      "outputs": []
    },
    {
      "cell_type": "code",
      "metadata": {
        "id": "l-6QMUUW92cT"
      },
      "source": [
        "# grid_search.predict([test])"
      ],
      "execution_count": null,
      "outputs": []
    },
    {
      "cell_type": "markdown",
      "metadata": {
        "id": "ryZpXJQIisU5"
      },
      "source": [
        "## Data Splitting"
      ]
    },
    {
      "cell_type": "code",
      "metadata": {
        "id": "n8SXtLVSlU4O"
      },
      "source": [
        "variety_threshold = 40 # Anything that occurs less than this will be removed.\n",
        "value_counts = listings['property_type'].value_counts()\n",
        "to_remove = value_counts[value_counts <= variety_threshold].index\n",
        "listings.replace(to_remove, np.nan, inplace=True)\n",
        "listings = listings[pd.notnull(listings['property_type'])]"
      ],
      "execution_count": null,
      "outputs": []
    },
    {
      "cell_type": "code",
      "metadata": {
        "id": "ZmRtIcdUFc8x"
      },
      "source": [
        "train_size = int(len(listings) * .8)\n",
        "\n",
        "# Train features\n",
        "description_train = listings['description'][:train_size]\n",
        "variety_train = listings['property_type'][:train_size]\n",
        "\n",
        "# Train labels\n",
        "labels_train = listings['price'][:train_size]\n",
        "\n",
        "# Test features\n",
        "description_test = listings['description'][train_size:]\n",
        "variety_test = listings['property_type'][train_size:]\n",
        "\n",
        "# Test labels\n",
        "labels_test = listings['price'][train_size:]"
      ],
      "execution_count": null,
      "outputs": []
    },
    {
      "cell_type": "markdown",
      "metadata": {
        "id": "b7ZL1aKVh9mN"
      },
      "source": [
        "### Baseline Score"
      ]
    },
    {
      "cell_type": "code",
      "metadata": {
        "colab": {
          "base_uri": "https://localhost:8080/"
        },
        "id": "uH5GzmSjh_V9",
        "outputId": "6b9f954e-a07a-49c4-fb8d-1876768ea820"
      },
      "source": [
        "print(\"Description Baseline Score: \", description_train.value_counts(normalize=True).max())"
      ],
      "execution_count": null,
      "outputs": [
        {
          "output_type": "stream",
          "text": [
            "Description Baseline Score:  0.0006129841181387574\n"
          ],
          "name": "stdout"
        }
      ]
    },
    {
      "cell_type": "markdown",
      "metadata": {
        "id": "hDdNVmMzg_OR"
      },
      "source": [
        "## Compiled-Model Neural Network"
      ]
    },
    {
      "cell_type": "code",
      "metadata": {
        "id": "NWoGYlXEFbHH",
        "colab": {
          "base_uri": "https://localhost:8080/"
        },
        "outputId": "1fc27ff7-1aa3-4434-bedf-1be2d4d0197e"
      },
      "source": [
        "layers = keras.layers\n",
        "\n",
        "# This code was tested with TensorFlow v1.7\n",
        "print(\"You have TensorFlow version\", tf.__version__)"
      ],
      "execution_count": null,
      "outputs": [
        {
          "output_type": "stream",
          "text": [
            "You have TensorFlow version 2.3.0\n"
          ],
          "name": "stdout"
        }
      ]
    },
    {
      "cell_type": "code",
      "metadata": {
        "colab": {
          "base_uri": "https://localhost:8080/"
        },
        "id": "FKrchEeUkZSe",
        "outputId": "6f7b5229-5356-4200-9823-6d7f60f56e2c"
      },
      "source": [
        "listings['property_type'].value_counts()"
      ],
      "execution_count": null,
      "outputs": [
        {
          "output_type": "execute_result",
          "data": {
            "text/plain": [
              "Apartment             20225\n",
              "Condominium             612\n",
              "Loft                    460\n",
              "House                   398\n",
              "Serviced apartment      175\n",
              "Hostel                  128\n",
              "Townhouse                99\n",
              "Guest suite              74\n",
              "Bed and breakfast        64\n",
              "Guesthouse               57\n",
              "Hotel                    50\n",
              "Other                    47\n",
              "Boutique hotel           43\n",
              "Name: property_type, dtype: int64"
            ]
          },
          "metadata": {
            "tags": []
          },
          "execution_count": 48
        }
      ]
    },
    {
      "cell_type": "code",
      "metadata": {
        "id": "1B_VweKOFzhz"
      },
      "source": [
        "vocab_size = 6000\n",
        "tokenize = keras.preprocessing.text.Tokenizer(num_words=vocab_size, char_level=False)\n",
        "tokenize.fit_on_texts(description_train)"
      ],
      "execution_count": null,
      "outputs": []
    },
    {
      "cell_type": "code",
      "metadata": {
        "id": "TXGpaAc3F2up"
      },
      "source": [
        "description_bow_train = tokenize.texts_to_matrix(description_train)\n",
        "description_bow_test = tokenize.texts_to_matrix(description_test)"
      ],
      "execution_count": null,
      "outputs": []
    },
    {
      "cell_type": "code",
      "metadata": {
        "id": "-56p7osWIXHA"
      },
      "source": [
        "encoder = LabelEncoder()\n",
        "encoder.fit(variety_train)\n",
        "variety_train = encoder.transform(variety_train)\n",
        "variety_test = encoder.transform(variety_test)\n",
        "num_classes = np.max(variety_train) + 1\n",
        "\n",
        "# Convert labels to one hot\n",
        "variety_train = keras.utils.to_categorical(variety_train, num_classes)\n",
        "variety_test = keras.utils.to_categorical(variety_test, num_classes)"
      ],
      "execution_count": null,
      "outputs": []
    },
    {
      "cell_type": "code",
      "metadata": {
        "id": "CZBEA0CifagC"
      },
      "source": [
        "# Hyperparameter tuning\n",
        "logdir = os.path.join(\"logs\", \"EarlyStopping-loss\")\n",
        "tb_callback = TensorBoard(logdir, histogram_freq=5)\n",
        "stop = EarlyStopping(monitor='loss',\n",
        "                     min_delta=0.01845,\n",
        "                     patience=2)"
      ],
      "execution_count": null,
      "outputs": []
    },
    {
      "cell_type": "markdown",
      "metadata": {
        "id": "WSxOjV4Hjplx"
      },
      "source": [
        "#### Wide Model"
      ]
    },
    {
      "cell_type": "code",
      "metadata": {
        "id": "HTR01RKYF9yx"
      },
      "source": [
        "bow_inputs = layers.Input(shape=(vocab_size,))\n",
        "variety_inputs = layers.Input(shape=(num_classes,))\n",
        "merged_layer = layers.concatenate([bow_inputs, variety_inputs])\n",
        "merged_layer = layers.Dense(256, activation='relu')(merged_layer)\n",
        "merged_layer = layers.Dense(896, activation='relu')(merged_layer)\n",
        "predictions = layers.Dense(1)(merged_layer)\n",
        "wide_model = keras.Model(inputs=[bow_inputs, variety_inputs], outputs=predictions)"
      ],
      "execution_count": null,
      "outputs": []
    },
    {
      "cell_type": "code",
      "metadata": {
        "id": "yRsOrAFPIgZB",
        "colab": {
          "base_uri": "https://localhost:8080/"
        },
        "outputId": "2f4eb45a-3c49-4b23-e74d-9c0de79e3481"
      },
      "source": [
        "wide_model.compile(loss='mse', optimizer='adam', metrics=['accuracy'])\n",
        "print(wide_model.summary())"
      ],
      "execution_count": null,
      "outputs": [
        {
          "output_type": "stream",
          "text": [
            "Model: \"functional_1\"\n",
            "__________________________________________________________________________________________________\n",
            "Layer (type)                    Output Shape         Param #     Connected to                     \n",
            "==================================================================================================\n",
            "input_1 (InputLayer)            [(None, 6000)]       0                                            \n",
            "__________________________________________________________________________________________________\n",
            "input_2 (InputLayer)            [(None, 13)]         0                                            \n",
            "__________________________________________________________________________________________________\n",
            "concatenate (Concatenate)       (None, 6013)         0           input_1[0][0]                    \n",
            "                                                                 input_2[0][0]                    \n",
            "__________________________________________________________________________________________________\n",
            "dense (Dense)                   (None, 256)          1539584     concatenate[0][0]                \n",
            "__________________________________________________________________________________________________\n",
            "dense_1 (Dense)                 (None, 896)          230272      dense[0][0]                      \n",
            "__________________________________________________________________________________________________\n",
            "dense_2 (Dense)                 (None, 1)            897         dense_1[0][0]                    \n",
            "==================================================================================================\n",
            "Total params: 1,770,753\n",
            "Trainable params: 1,770,753\n",
            "Non-trainable params: 0\n",
            "__________________________________________________________________________________________________\n",
            "None\n"
          ],
          "name": "stdout"
        }
      ]
    },
    {
      "cell_type": "code",
      "metadata": {
        "id": "3sgjNu7_locW"
      },
      "source": [
        "train_embed = tokenize.texts_to_sequences(description_train)\n",
        "test_embed = tokenize.texts_to_sequences(description_test)\n",
        "\n",
        "max_seq_length = 170\n",
        "train_embed = keras.preprocessing.sequence.pad_sequences(\n",
        "    train_embed, maxlen=max_seq_length, padding=\"post\")\n",
        "test_embed = keras.preprocessing.sequence.pad_sequences(\n",
        "    test_embed, maxlen=max_seq_length, padding=\"post\")"
      ],
      "execution_count": null,
      "outputs": []
    },
    {
      "cell_type": "markdown",
      "metadata": {
        "id": "_3kSRr_Cjtf0"
      },
      "source": [
        "### Deep Model"
      ]
    },
    {
      "cell_type": "code",
      "metadata": {
        "colab": {
          "base_uri": "https://localhost:8080/"
        },
        "id": "8Kg45ECJlrFO",
        "outputId": "5bdf871d-4c36-4c7c-bd00-fd83764f46a5"
      },
      "source": [
        "deep_inputs = layers.Input(shape=(max_seq_length))\n",
        "# input layer\n",
        "embedding = layers.Embedding(vocab_size, 8, input_length=max_seq_length)(deep_inputs)\n",
        "\n",
        "# hidden layers\n",
        "embedding = layers.Flatten()(embedding)\n",
        "# model = tf.expand_dims(embed_out, axis=-1)\n",
        "# embed_out = layers.Dense(10, activation=\"relu\")(embedding)\n",
        "embed_out = layers.Dense(256, activation=\"relu\")(embedding)\n",
        "embed_out = layers.Dense(896, activation=\"relu\")(embedding)\n",
        "embed_out = layers.Dense(1)(embedding)\n",
        "\n",
        "# output layer\n",
        "deep_model = keras.Model(inputs=deep_inputs, outputs=embed_out)\n",
        "print(deep_model.summary())"
      ],
      "execution_count": null,
      "outputs": [
        {
          "output_type": "stream",
          "text": [
            "Model: \"functional_3\"\n",
            "_________________________________________________________________\n",
            "Layer (type)                 Output Shape              Param #   \n",
            "=================================================================\n",
            "input_3 (InputLayer)         [(None, 170)]             0         \n",
            "_________________________________________________________________\n",
            "embedding (Embedding)        (None, 170, 8)            48000     \n",
            "_________________________________________________________________\n",
            "flatten (Flatten)            (None, 1360)              0         \n",
            "_________________________________________________________________\n",
            "dense_5 (Dense)              (None, 1)                 1361      \n",
            "=================================================================\n",
            "Total params: 49,361\n",
            "Trainable params: 49,361\n",
            "Non-trainable params: 0\n",
            "_________________________________________________________________\n",
            "None\n"
          ],
          "name": "stdout"
        }
      ]
    },
    {
      "cell_type": "code",
      "metadata": {
        "id": "FcTh23aElvXc"
      },
      "source": [
        "deep_model.compile(loss='mse',\n",
        "                       optimizer='adam',\n",
        "                       metrics=['accuracy'])"
      ],
      "execution_count": null,
      "outputs": []
    },
    {
      "cell_type": "markdown",
      "metadata": {
        "id": "HKqbjPWVjyi9"
      },
      "source": [
        "### Combined Model"
      ]
    },
    {
      "cell_type": "code",
      "metadata": {
        "colab": {
          "base_uri": "https://localhost:8080/"
        },
        "id": "QAm0dU-Blw_w",
        "outputId": "e0170d76-a3a3-4f8c-a017-a86ecd6a35e9"
      },
      "source": [
        "merged_out = layers.concatenate([wide_model.output, deep_model.output])\n",
        "merged_out = layers.Dense(10, activation=\"relu\")(merged_out)\n",
        "merged_out = layers.Dense(256, activation=\"relu\")(merged_out)\n",
        "merged_out = layers.Dense(896)(merged_out)\n",
        "combined_model = keras.Model(wide_model.input + [deep_model.input], merged_out)\n",
        "print(combined_model.summary())\n",
        "\n",
        "combined_model.compile(loss='mse',\n",
        "                       optimizer='adam',\n",
        "                       metrics=['accuracy'])"
      ],
      "execution_count": null,
      "outputs": [
        {
          "output_type": "stream",
          "text": [
            "Model: \"functional_5\"\n",
            "__________________________________________________________________________________________________\n",
            "Layer (type)                    Output Shape         Param #     Connected to                     \n",
            "==================================================================================================\n",
            "input_1 (InputLayer)            [(None, 6000)]       0                                            \n",
            "__________________________________________________________________________________________________\n",
            "input_2 (InputLayer)            [(None, 13)]         0                                            \n",
            "__________________________________________________________________________________________________\n",
            "concatenate (Concatenate)       (None, 6013)         0           input_1[0][0]                    \n",
            "                                                                 input_2[0][0]                    \n",
            "__________________________________________________________________________________________________\n",
            "input_3 (InputLayer)            [(None, 170)]        0                                            \n",
            "__________________________________________________________________________________________________\n",
            "dense (Dense)                   (None, 256)          1539584     concatenate[0][0]                \n",
            "__________________________________________________________________________________________________\n",
            "embedding (Embedding)           (None, 170, 8)       48000       input_3[0][0]                    \n",
            "__________________________________________________________________________________________________\n",
            "dense_1 (Dense)                 (None, 896)          230272      dense[0][0]                      \n",
            "__________________________________________________________________________________________________\n",
            "flatten (Flatten)               (None, 1360)         0           embedding[0][0]                  \n",
            "__________________________________________________________________________________________________\n",
            "dense_2 (Dense)                 (None, 1)            897         dense_1[0][0]                    \n",
            "__________________________________________________________________________________________________\n",
            "dense_5 (Dense)                 (None, 1)            1361        flatten[0][0]                    \n",
            "__________________________________________________________________________________________________\n",
            "concatenate_1 (Concatenate)     (None, 2)            0           dense_2[0][0]                    \n",
            "                                                                 dense_5[0][0]                    \n",
            "__________________________________________________________________________________________________\n",
            "dense_6 (Dense)                 (None, 10)           30          concatenate_1[0][0]              \n",
            "__________________________________________________________________________________________________\n",
            "dense_7 (Dense)                 (None, 256)          2816        dense_6[0][0]                    \n",
            "__________________________________________________________________________________________________\n",
            "dense_8 (Dense)                 (None, 896)          230272      dense_7[0][0]                    \n",
            "==================================================================================================\n",
            "Total params: 2,053,232\n",
            "Trainable params: 2,053,232\n",
            "Non-trainable params: 0\n",
            "__________________________________________________________________________________________________\n",
            "None\n"
          ],
          "name": "stdout"
        }
      ]
    },
    {
      "cell_type": "code",
      "metadata": {
        "colab": {
          "base_uri": "https://localhost:8080/"
        },
        "id": "nG2T0LUUl1C8",
        "outputId": "b6db53a9-97bc-4fad-9e39-ae737b13b4dc"
      },
      "source": [
        "combined_model.fit([description_bow_train, variety_train] + [train_embed], \n",
        "                   labels_train, epochs=20, batch_size=40, \n",
        "                   verbose=2, callbacks=[stop])"
      ],
      "execution_count": null,
      "outputs": [
        {
          "output_type": "stream",
          "text": [
            "Epoch 1/20\n",
            "449/449 - 2s - loss: 15640.4922 - accuracy: 1.6718e-04\n",
            "Epoch 2/20\n",
            "449/449 - 2s - loss: 12923.2686 - accuracy: 1.6718e-04\n",
            "Epoch 3/20\n",
            "449/449 - 2s - loss: 8318.6162 - accuracy: 2.7863e-04\n",
            "Epoch 4/20\n",
            "449/449 - 2s - loss: 5770.9575 - accuracy: 3.9008e-04\n",
            "Epoch 5/20\n",
            "449/449 - 2s - loss: 4872.2705 - accuracy: 5.5726e-04\n",
            "Epoch 6/20\n",
            "449/449 - 2s - loss: 3246.9482 - accuracy: 1.6718e-04\n",
            "Epoch 7/20\n",
            "449/449 - 2s - loss: 5533.6890 - accuracy: 1.1145e-04\n",
            "Epoch 8/20\n",
            "449/449 - 2s - loss: 2008.5858 - accuracy: 5.5726e-05\n",
            "Epoch 9/20\n",
            "449/449 - 2s - loss: 1337.1089 - accuracy: 0.0028\n",
            "Epoch 10/20\n",
            "449/449 - 2s - loss: 1717.3251 - accuracy: 0.0017\n",
            "Epoch 11/20\n",
            "449/449 - 2s - loss: 1846.8669 - accuracy: 9.4734e-04\n"
          ],
          "name": "stdout"
        },
        {
          "output_type": "execute_result",
          "data": {
            "text/plain": [
              "<tensorflow.python.keras.callbacks.History at 0x7fb8fca39da0>"
            ]
          },
          "metadata": {
            "tags": []
          },
          "execution_count": 59
        }
      ]
    },
    {
      "cell_type": "markdown",
      "metadata": {
        "id": "0rnVaSF9j1Vk"
      },
      "source": [
        "### Evaluating the Combined Model and Making Predictions"
      ]
    },
    {
      "cell_type": "code",
      "metadata": {
        "colab": {
          "base_uri": "https://localhost:8080/"
        },
        "id": "HDdK1-6Il7Md",
        "outputId": "0bd75f48-08e0-469e-88b4-c96b431a653e"
      },
      "source": [
        "combined_model.evaluate([description_bow_test, variety_test] + [test_embed], \n",
        "                        labels_test, batch_size=40, verbose=2)"
      ],
      "execution_count": null,
      "outputs": [
        {
          "output_type": "stream",
          "text": [
            "113/113 - 0s - loss: 176553.8594 - accuracy: 0.0000e+00\n"
          ],
          "name": "stdout"
        },
        {
          "output_type": "execute_result",
          "data": {
            "text/plain": [
              "[176553.859375, 0.0]"
            ]
          },
          "metadata": {
            "tags": []
          },
          "execution_count": 60
        }
      ]
    },
    {
      "cell_type": "code",
      "metadata": {
        "id": "JvGuGgOLl9PD"
      },
      "source": [
        "predictions = combined_model.predict([description_bow_test, variety_test] + [test_embed])"
      ],
      "execution_count": null,
      "outputs": []
    },
    {
      "cell_type": "code",
      "metadata": {
        "colab": {
          "base_uri": "https://localhost:8080/"
        },
        "id": "vaayPi7fmAt7",
        "outputId": "8c91e282-3e97-4bee-a1b0-ec6a64e8c0e6"
      },
      "source": [
        "num_predictions = 40\n",
        "diff = 0\n",
        "\n",
        "for i in range(num_predictions):\n",
        "    val = predictions[i]\n",
        "    print(description_test.iloc[i])\n",
        "    print('Predicted: ', val[0], 'Actual: ', labels_test.iloc[i], '\\n')\n",
        "    diff += abs(val[0] - labels_test.iloc[i])"
      ],
      "execution_count": null,
      "outputs": [
        {
          "output_type": "stream",
          "text": [
            "Eine schöne und gemütliche privat Wohnung. Ideal für Alleinerziehende mit 3 Kindern.  Zentral in Berlin. Gute Anbindung an das Nahverkehr. Netter Kiez.\n",
            "Predicted:  39.013763 Actual:  30.0 \n",
            "\n",
            "Ich studiere Architektur und beschäftige mich mit der Nachhaltigkeit. Die Wohnung liegt im 1OG ( alt bau )  Und da ich Architektur studiere und mich mit der Nachhaltigkeit beschäftige sind alle Möbel die Ihr vorfinden werdet alle aus Recycelt quelle was  der Wohnung seinen speziellen Charme verleiht. KIEZ live\n",
            "Predicted:  75.924484 Actual:  55.0 \n",
            "\n",
            "Die Wohnung befindet sich im ersten Stock eines neunstöckigen Hochhauses. Vor der Tür ist leicht, einen kostenfreien Parkplatz zu finden. Der Bus fährt keine 50m von dem Haus ab und in 10 Minuten erreicht er den Alexanderplatz. Einkaufsmöglichkeiten gibt es auch in der Nähe. Die Gegend ist sehr ruhig aber dank der guten Anbindung, ist man sehr schnell mitten drin, wo das Berliner Leben pulsiert.\n",
            "Predicted:  33.41594 Actual:  30.0 \n",
            "\n",
            "One room in a equipped and cosy apartment in the beautiful central location of Berlin - Kreuzberg-Bergmannkiez. 20 minutes to Alexander Platz, 15 minutes to Checkpoint Charlie with public transportation. Metro Station is in 2 minutes walking, a lot of bars, restaurants and cafe around. There is a very nice coffee machine, you can have a breakfast at home! Apartment is small, but very convenient. It's a studio apartments, the kitchen is not separate. There is no washer.\n",
            "Predicted:  56.828026 Actual:  50.0 \n",
            "\n",
            "Hauptstadtluft schnuppern und gleichzeitig in ruhiger Umgebung übernachten? In unserem gemütlichen Gästehaus aus dem 19. Jahrhundert ist das jederzeit möglich. Gelegen inmitten eines parkähnlichen Grundstücks können Sie sich hier eine kleine Auszeit gönnen, neue Kraft tanken und die liebevolle Betreuung ihrer Gastgeber genießen.\n",
            "Predicted:  35.64459 Actual:  44.0 \n",
            "\n",
            "The flat is in Friedrichshain, a nice area were you find trendy bars, restaurants and shops. You will love it because of the nice atmosphere and the pretty decor. In the livingroom you have a big table for enjoying your meals. The Kitchen is well equipped. The separate room has a calm place for working with your laptop. W-Lan is free. If you like, play the piano. I especially welcome musicians and families.\n",
            "Predicted:  37.480495 Actual:  39.0 \n",
            "\n",
            "Hey everybody :) This is the perfect place for your berlin adventure. Your private space is a separated double room (perfect for couples), 25 qm in a 120 qm shared flat with three friendly roommates.  Feel free to use everything in the flat. There is a big park and public transportation just around the corner (S-Bahn Station Humboldthain). Friedrichstraße, Hauptbahnhof, Brandenburger Tor is only 15 minutes away.\n",
            "Predicted:  41.31675 Actual:  30.0 \n",
            "\n",
            "Hey, ich verreise für 2 Wochen ab dem 26.03.-11.04.18 und biete meine 2 Zimmer Wohnung als Ferienwohnung für diesen Zeitraum an. Sehr gerne an jemanden, der für den gesamten Zeitraum die Wohnung so lange bewohnen möchte. Would be perfect to find somebody who would like to book special for this time or just for one week is also fine for me. Sie liegt im Prenzlauerberg nahe der Schönhauser Allee. Sie hat eine Badewanne und einen Balkon. Eine Küche mit Waschmaschine und einen Schlaf und Wohnraum.\n",
            "Predicted:  29.345676 Actual:  44.0 \n",
            "\n",
            "Our flat is very central located in Berlin, Neukölln. We, Charlotte + Max, usually live in this 97 m2 flat, but if we're out of town we sublet one or both rooms. This is the smaller room, which has a bed for two, a desk and some space for your clothes. Furthermore you can of course use our bathroom and our superspacious living room/kitchen.  If you need any further information, just ask! Also, we're both gay so the flat is highly LGBT-friendly ;) The flat has everything you need for your stay, including bath tub, washing machine, a TV with Netflix, Wifi etc. It's in the first floor and in a very quiet area. We're happy to give you some tips or recommendations for your trip to Berlin and know the nice places here quite well :) The flat is close to Tempelhofer Feld, which is a lovely place to spend a sunny day at! Additionally there are a lot of nice small shops, restaurants etc. in Schillerkiez and the next metro stations are just 5 min by foot.\n",
            "Predicted:  47.178253 Actual:  22.0 \n",
            "\n",
            "Our flat is very central located in Berlin, Neukölln. We, Charlotte + Max, usually live in this 97 m2 flat, but if we're out of town we sublet one or both rooms. This is the bigger room, which has a bed for two, a desk and some space for your clothes. Furthermore you can of course use our bathroom and our superspacious living room/kitchen.  If you need any further information, just ask! Also, we're both gay so the flat is highly LGBT-friendly ;) The flat has everything you need for your stay, including bath tub, washing machine, a TV with Netflix, Wifi etc. It's in the first floor and in a very quiet area. We're happy to give you some tips or recommendations for your trip to Berlin and know the nice places here quite well :) The flat is close to Tempelhofer Feld, which is a lovely place to spend a sunny day at! Additionally there are a lot of nice small shops, restaurants etc. in Schillerkiez and the next metro stations are just 5 min by foot.\n",
            "Predicted:  45.062263 Actual:  25.0 \n",
            "\n",
            "This cozy room with a functional layout offers a wonderfully liveable space in a uniquely-sized room. The loft was custom built by a carpenter and does not feel wobbly or shaky at all. Very tall people (200cm+) may not feel comfortable in the loft. Our house is directly in front of a subway entrance that leads directly to the business and shopping center of Berlin (15 min ride), and is just two stops away from the train line that circles the main inner districts of the city. The bed is a very comfortable double mattress. It can fit two people, but is recommended for one. We have a few ground rules at the shared flat, and guests will be expected to respect them as well. The shared spaces in the flat are the kitchen and bathroom, which are of course available for guests. Usually someone will be home at the flat during the day, but not always. The shared flat generally speaking has an atmosphere of privacy with minimal interactions, especially in the colder months when closed doors keep t\n",
            "Predicted:  59.112316 Actual:  20.0 \n",
            "\n",
            "The apartment has three rooms, and it is very spacious and modern. The room for rent is big and has a couch and a desk space for the people visiting. Further more the common areas is a loft great for cooking and spending an evening with a nice atmosphere. It is located 15 minutes to the city center, and has easy access to everywhere in Berlin as the U-bahn and S-bahn is right half a block from the building. The neighborhood is quiet and residential but you can find bars and restaurants near by.\n",
            "Predicted:  56.75459 Actual:  30.0 \n",
            "\n",
            "Beautiful, bright and very spacious central penthouse apartment with two bedrooms and large living and dining area with an open kitchen. In addition there are 2 roof terraces with almost 50 sqm and a view of the Alex. 100m2 living space with two bedrooms and a very spacious living area with open kitchen.  From the kitchen you have access to a 40m2 roof terrace, from the living room to a second, smaller roof terrace. The smaller of the two bedrooms is rented with approx. 15qm, the guests can use the living room completely. Very centrally located, directly at Hackesche Höfe / Hackescher Markt and only a few minutes walk to Alexanderplatz. Very good connections: tram, S-Bahn (Hackescher Markt) and subway (Weinmeisterstrasse) can be reached in 2-3 minutes. A little further away (approx. 10 minutes walk) is Alexanderplatz with many transport options Please note that the apartment is on the 5th floor and there is no elevator.\n",
            "Predicted:  175.06609 Actual:  60.0 \n",
            "\n",
            "Die Wohnung liegt am nördlichen Stadtrand von Berlin, mit der S-Bahn ist man in 30 Minuten am Brandenburger Tor.  Gleich um die Ecke kann man im Wald joggen. Der Preis ist für die Belegung mit einer Person inkl. aller Nebenkosten (Heizung, Strom, Wasser, TV-Kabelanschluss für TV). WLAN kann für 10 € gebucht werden. Bei Belegung mit zwei oder drei Personen erhöht sich der Anteil für die Nebenkosten. Die Wohnung befindet sich in einem Reihenhaus u liegt im grünen Vorort Frohnau. Sie ist gemütlich, vollständig u mit allem Komfort eingerichtet. Die Wohnung liegt im grünen Villenvorort Frohnau, am nördlichen Stadtrand von Berlin. Sie ist sehr ruhig gelegen und dennoch ist die City schnell erreichbar. Gleich um die Ecke kann man im Wald zum und um den idyllischen Hubertussee joggen.  Geschäfte gibt es am Ludolfinger- und Zeltinger-Platz, Supermärkte sind in der Nähe. Mit dem Auto: In der Straße gibt es ausreichend Parkmöglichkeiten. Mit öffentlichen Verkehrsmitteln: Die Bushaltestelle Am Pil\n",
            "Predicted:  30.332718 Actual:  38.0 \n",
            "\n",
            "Welcome to Berlin, welcome to our place! We are offering a nice bright 15 qm room in our cosy apartment in the heart of Schöneberg. The apartment is situated in a very quiet street close to the big Rudolph-Wilde-Park. It lies directly on the U4 (Rathaus Schöneberg), and is 7 minutes from Bayerischer Platz (U7) or Innsbruckerplatz (S Bahn ring). There is a supermarket just 2 minutes away. Our flat offers a 15 qm bedroom which can host 2 people, a big bathroom and an equipped kitchen linked to another bedroom. Guests have free access to the bathroom, the kitchen can be used from 7.00 untill 23.30. My sister and me, from Italy, are living together and happy to share our beautiful flat with you! During your visit we will be happy to help you with any problem or give you some tips \n",
            "Predicted:  39.63052 Actual:  30.0 \n",
            "\n",
            "Prenzlauer Berg ist eine kosmopolitische Gegend mit vielen Restaurants und Parks. Es ist eine familienfreundliche Gegend in unmittelbarer Nähe zu allen öffentlichen Verkehrsmitteln. Eine Straßenbahn von Mitte und dem Berliner Fernsehturm entfernt. Mein Mann und ich wohnen im ersten Stock im selben Haus und wir stehen zur Verfügung, um zu helfen und zu beraten. Die Wohnung befindet sich im Erdgeschoss mit einer Terrasse mit Blick auf den Innenhof eigenständige Wohnung im Erdgeschoss Bei Buchungen länger als 2 Wochen gibt es einen kostenlosen Reinigungsservice einmal pro Woche\n",
            "Predicted:  83.89947 Actual:  43.0 \n",
            "\n",
            "Hello! My flat is located in Prenzlauer Berg, near Prenzlauer Allee. It takes 15 min to Alexanderplatz with the Tram and 10 min walking distance to S-Bahnhof Prenzlauer Allee.\n",
            "Predicted:  43.41981 Actual:  15.0 \n",
            "\n",
            "Die Wohnung liegt im Herzen des wunderschönen Prenzlauerbergs und ist hervorragend angebunden an die öffentlichen Verkehrsmittel (4min Fussweg zur Schönauer Allee: Ringbahn, Metro, U-Bahn und Bus). In der Ecke der Stadt gibt es eine Fülle an Kulturellen Veranstaltungen, Restaurants, Cafés, Parks, Bars und noch vieles mehr zu entdecken. Bitte berücksichtige, das es sich um eine Privatwohnung handelt und deshalb in deinem/eurem Zimmer einige persönliche Gegenstände sind. Natürlich hast du ausreichend Platz um dich selbst auszubreiten. Ich vermiete das eine Zimmer nur bis maximal zum 2. April und in diesem Zeitraum wird auch mein Mitbewohner nicht da sein. Also hast du die Wohnung für dich. Die Lage ist trotz ihrer Zentralist sehr ruhig. Die Wohnung befindet sich im dritten Obergeschoss. Dadurch dass es keinen Aufzug gibt ist die Wohnung leider nicht barrierefrei\n",
            "Predicted:  26.434977 Actual:  23.0 \n",
            "\n",
            "Your place to live in Berlin will be in the middle of famous Kreuzberg! You can walk to the popular Bergmannkiez, Landwehrkanal, Tempelhofer Feld and the notorius Clash Bar at the most in 15 minutes! There are loads of beautiful restaurants and bars. The metro station (Gneisenaustr.) is reachable in one min. Your room is part of a four people shared flat. You'll love the brightness, the loads of space and the nice (Hidden by Airbnb) as well as location :-) You've got much of space and can really feel like home :-) The flat is a maisonette, so you can just relax in the living room upstairs and play some pool on our table. Or cook and eat in the dining room downstairs. If you don't feel like going out, just sit in the winter garden where you can have an drink, smoke and listen to Music. As we want you to feel like a part of the flatshare, you can use everything we use too. (Pool table!) I will be there and maybe one of my (Hidden by Airbnb) will be there as well. Sometimes I have to work\n",
            "Predicted:  28.318707 Actual:  40.0 \n",
            "\n",
            "Das Zimmer ist gemütlich.\n",
            "Predicted:  33.46805 Actual:  45.0 \n",
            "\n",
            "Die Wohnung liegt sehr zentral und 3min vom Ubahnhof entfernt. Es gibt hier Café‘s, Bars und Bäckereien.\n",
            "Predicted:  45.46413 Actual:  35.0 \n",
            "\n",
            "Two stops from Tempelhof station with the U6, situated just outside the ring where its quiet but not too far from the happening areas.  The house has a big living room/kitchen, garden, fire place, and bathtub. there are 2 supermarkets just across the road (Lidl & Rewe) a pharmacy, post office and späti to name a few.  There is a shared bathroom and a seperate shared shower on the ground level as well as another bathroom/shower upstairs. *you will share the house with 5 others and one dog.\n",
            "Predicted:  27.1193 Actual:  30.0 \n",
            "\n",
            "In Prenzlauer Berg you will experience a relaxed open-mindedness. Your room is very bright and inviting, thanks to the size and the high ceilings. The double bed has new mattresses, is comfortable and perfect for two people. You have your own balcony access to relax in the fresh air or to smoke. The room offers plenty of storage space and a flexible clothes rack. Feel like home. The apartment is located in Prenzlauer Berg, close to the intersection of Bornholmer Straße / Schönhauser Alle. It is within walking distance of the cultural scene of the area. The public transport is reached in a maximum of 5 minutes walk (1 minute to the tram, a maximum of 5 minutes to the underground and S-Bahn) and if you are in a hurry, there is a taxi rank in front of the door. The distance to Berlin Tegel airport is only 30 minutes by S-Bahn line S42 and Schönefeld airport is just under 45 minutes by S41. Around the corner in the Schönhauser Alle you will find everything imaginable to eat and drink and s\n",
            "Predicted:  57.10806 Actual:  79.0 \n",
            "\n",
            "You will be in a small town house area.All of neighbours are kind, almost all of them have kids. In the neighborhood 10 min to walk you will find an old district called Hohenschönhausen with groceries, cafes, shops. Quite close is the hardest former Stasi (secret police in the GDR) jail. It is really worth to see it  on the tour with the former prisoner especially at night.25 min from here there is zoo.You need about 30 min to get to centre of Berlin (Alexanderplatz) with tram service (M6 & M5). Great, sunny room and nice international neighborhood. 15 min walking you will find 3 nice lakes (Weissensee, Orankesee und Oberer See). In two of them you can swim. There is  a big zoo (Tiergarten) close to our place (15 min with the tram 17 ) if want to see the elephants and manatees. It it important for me that you feel like at home. Diele, Küche und Badezimmer In der Nähe befindet der S-Bahnhof Landsberger Allee (S41, S42/Ringbahn) sowie die Straßenbahnen : M6, M5 und M17.\n",
            "Predicted:  29.898624 Actual:  21.0 \n",
            "\n",
            "The apartment is located on one of the most beautiful streets in Berlin. You are a stone throw away from vibrant Berlin Mitte, located in the family friendly district of Prenzlauerberg. The apartment is furnished and arranged with an eye for detail. You will find an open kitchen with everything you need, a master bed room with a king size bed, a kids room with a bunk bed, a cute bathroom and a nice little balcony.\n",
            "Predicted:  75.70398 Actual:  70.0 \n",
            "\n",
            "Cozy and sunny premium room in a completely quiet, bright and renovated top floor appartment with terrasse and elevator, next to the canal Maybac Ufer and right in the heart of the bustling Kreuzkölln neighboorhod with cafes, restaurants, shops and the famous Turkish market.\n",
            "Predicted:  31.983988 Actual:  35.0 \n",
            "\n",
            "In the midst of your travel hurdles, you shouldn’t settle for a place that is less friendly and uncomfortable. You should be in a place that breathes the fresh air of a new life into you. After all the delays, traffic, and the accumulated stress in the course of your journey, you should stay in a room that makes you feel at home away from home. We have been in your position, and that is why we are presenting you with a Cozy and Comfortable Central Double Bedroom. Besides being the perfect home, this apartment gives you the chance to experience the beautiful view of Berlin in a wide angle. What has made this flat the most inquired apartment by travelers like you is that it is close to major Berlin attractions; this includes; Mercedes-Benz Arena  and the world famous Berghain. And your stay here will be less stressful because a lot of conveniences are at your disposal. You can easily access local restaurants, supermarkets, bars and the Sbahn and metro.. The amazing thing is that all thes\n",
            "Predicted:  59.051792 Actual:  47.0 \n",
            "\n",
            "Tachchen, hola, ciao, Salut! My english Servers best;) I'm one of the rare Aborigines of Kreuzberg.I sublet my flat while I'm traveling. It is located 5 min to the substation of Kottbusser Tor. The area is quite mixed. Restaurants from ...The area was earlyer called little Istanbul and u can vistit the Market. Different subculture bars and clubs like punk, queer, Jazz...for sure any electronically you like. All within 10min walking.I can give u nearer info via Mail.Best A You can always contact me via (Email hidden by Airbnb)  I will always answer when I can:)\n",
            "Predicted:  44.29243 Actual:  55.0 \n",
            "\n",
            "Last floor, very bright, all windows looking at the sky. Loft feeling, high ceiling, nice volumes.  3 bedrooms flat with 2 bathrooms, spacious living room and two terraces.  Architect flat decorated with care and time! Sharing the flat with two Yoga and vegan food experts and an architect :) Around their 30’s. Relax and welcoming. Quiet street, dual aspect flat - not overlooked. The flat has been refurbished less than a year ago by an architect studio. The building as well. New elevator. All very clean.  Very nice wood floor and trendy wood ceiling. Amazing volumes, new kitchen fully equipped. The bedroom is on the rear side of the building, above the backyard. No noise from the street. Living room with kitchen and one of the bathroom. Free access to the terrace and roof top. The rooms of my flatmate are of course not accessible. I am always available on the app. I try to be as reactive as I can by messages. Also reachable by voice call. 2minutes from the subway. 5minutes from the very\n",
            "Predicted:  54.436977 Actual:  45.0 \n",
            "\n",
            "Welcome to Berlin! Since I'm traveling myself, I'm renting out my high-quality & modern old-building apartment in the beautiful area \"Bergmannkiez\". In my apartment the special charm of old Berlin buildings & the industrial style come together and create a unique atmosphere to feel good. In addition to a various neighborhood and good transport links, you can expect a large living & dining area with kitchen, a comfortable bedroom and a modern bathroom with a shower in your temporary home. My apartment is located in the beautiful area \"Bergmannkiez\", in a quiet but yet various neighborhood with very good transport links. Both business travelers and tourists will find a wonderful retreat with a special atmosphere. Whereas the floor planking and the high ceilings create the typical charm of old Berlin buildings, the apartment has a modern and individual furnishing in the industrial style. The spacious living room is light-flooded and open designed. The stylish sofa invites you to have cozy\n",
            "Predicted:  67.52603 Actual:  65.0 \n",
            "\n",
            "Die Wohnung ist eine WG, sodass unsere Gäste noch mit zwei weiteren Personen zusammenwohnen. Am besten geeignet für Pärchen oder einzelne Person (Doppelbett), die sich Berlin anschauen wollen/will, da die Wohnung sehr zentral liegt.  < 10 Minuten vom Hauptbahnhof viele Cafés in der Nähe und sehr ruhige Lage\n",
            "Predicted:  44.77463 Actual:  20.0 \n",
            "\n",
            "Wir sind eine 2er WG in einer frisch sanierten Altbauwohnung direkt am Wasser (Schlesisches Tor). Wir haben unsere Wohnung mit viel Liebe eingerichtet und hoffen das sich zukünftige Gäste genauso wohlfühlen wie wir selbst =). Wenn Ihr Berlin und vor allem Kreuzberg authentisch erleben wollt seid ihr mit der Lage am Schlesischen Tor genau richtig. Einkaufsmöglichkeiten, Bars, Clubs und vieles mehr befinden sich in unmittelbarer Nähe.\n",
            "Predicted:  54.159645 Actual:  50.0 \n",
            "\n",
            "Gemütliche, stilvoll eingerichtete 2-Zimmer-Wohnung im 1. Stock mit Küche, Bad und Balkon.   Perfekte, ruhige Lage zwischen Tempelhofer Feld und Bose-Park. Sehr gute Verkehrsanbindung mit Ringbahn, U6 und Bus M46.  Besonders geeignet für Kleinfamilien mit Kindern. Spielplatz im Innenhof und Spielzimmer in der Wohnung vorhanden.\n",
            "Predicted:  34.38193 Actual:  40.0 \n",
            "\n",
            "Dreamy room with a calm energy. Suitable for one person. A lot of daylight stream in and makes beautiful shadowplay on the walls. Here you will sleep like a princess or prince.\n",
            "Predicted:  27.46294 Actual:  55.0 \n",
            "\n",
            "This space is in perfect form, vibrant, newly renovated, and impressively designed to make you feel welcomed.  It is full of lights, and very close to all the primary necessities that will make anyone feel at home - easy transportation, restaurants, museums, and shopping centers. Guests will also experience the joy and peace of mind with using new bathroom power showers, kitchen fittings, a brand new mini bar, flooring and beautiful lightings. Other amenities you get to enjoy includes; luxury towels, a brand new 32-inch TV with cable, Wi-Fi, Hair Dryer, light breakfast (coffee, cereal, milk, and  tea) and services of a professional cleaner on a weekly basis. Above all, it can comfortably accommodate up to 2 people. Cozy and unique and will be just the right accommodation for you and your pals to stay in Friedrichshain, Berlin. Highlighting the space is its beautiful interior designs hues as well as its surrounding scenes. From the inside, you can get an iconic view of the Warschauerstr\n",
            "Predicted:  66.49626 Actual:  34.0 \n",
            "\n",
            "Wer eine gute Mischung zwischen Ruhe und Action sucht oder bereits öfter in Berlin war, ist hier genau richtig. Zum Szenekiez Friedrichshain fährt die Bahn in 12 Min., der Müggelsee ist in 20 Min. erreichbar. Aber auch der Bezirk Köpenick bietet von Wassersport bis Kulturprogramm sehr viel lohnenswertes ( (Website hidden by Airbnb)  Die Wohnung mit 2 Zimmern, Bad und einem Balkon bietet Platz für 4 Personen. Wohnraum: Zugang zum hellen Balkon. W-LAN Zugang persönlich vor Ort. Kühlschrank mit Gefrierfach vorhanden. Geschirr und zugehörige Sitzecke fürs Frühstück und gemütliche Ledercouch zum TV gucken. Wasserkocher, Kaffe-/Tee-Zubereiter. Schlafzimmer: Schlafzimmer mit Sitzecke und großem Schrank. Rollos zur Verdunklung sind vorhanden. Bad: Hochmodernes Bad mit großer Regendusche und großem Waschbecken. Waschmaschine vorhanden. Wohnbereich ist ausschließlich für Gäste (Wohnraum, Schlafzimmer, Bad). Die Waschmaschine im Bad verwende ich hin und wieder. Vom Flur führt eine Treppe zu meine\n",
            "Predicted:  36.625713 Actual:  39.0 \n",
            "\n",
            "Perfect for couples or two friends. Beside the living room and a balcony there is a separate kitchen and bathroom. The flat is freshly renovated and located in the center of Neukölln directly at Sonnenallee. Rathaus Neukölln is a 5 min. footwalk, Weserstr. not even a minute. So loads of Bars and good Restaurants around. To get to Kreuzberg you just have to follow the kanal for 10min and you´ll be at Görlitzer Park. The flat is in the first floor. The key works for both doors, downstairs as upstairs. Built most of the stuff in my apartment myself and tried to make it comfortable. You have the whole flat for yourself and you can of course use everything including the projector in my room to watch something. The goes for the music. But please don´t be to loud after 10 pm, I really like my neighbors. :) You can write or call me in case of questions. Otherwise some of my best friends live in the same house in case of emergency. The neighbors are all really nice. Never had trouble with them,\n",
            "Predicted:  46.58143 Actual:  33.0 \n",
            "\n",
            "3 Zimmer-Wohnung, 76 qm Nähe Olympiastadion, Waldbühne, Seengebiet der Havel, Grunewald, S-Bahnhof Pichelsberg, 5 Min.   (Fahrdauer 15 Min. bis Kurfürstendamm, City West, 25 Min  Fahrtzeit bis Berlin-Mitte, Hauptbahnhof). Geeignet für Paare und Einzelpersonen Schlafzimmer, Wohnzimmer, Küche, Bad S-Bahnhof Pichelsberg, Bushaltestelle, beides in 5 Minuten fußläufig zu erreichen.\n",
            "Predicted:  84.09513 Actual:  35.0 \n",
            "\n",
            "The apartment is ideal for long stays in the city and feels like home. It is placed on the 3rd floor of a 19 century building in a very trendy, safe and central area. The 140qm apartment is fully equipped, has high ceilings, a big balcony, a very modern open kitchen and dining room, a living room, two bed rooms (one with a king size bed and one with 2 single beds) and two very beautiful bathrooms (one with shower and bath tub and the other just with shower). The furniture is stylish and modern. The apartment is ideal for long stays in the city, great also for a family. It is fully equipped and in a very central but safe and quiet area. It is very close to public transportation and has great restaurants, bars, parks, schools, nurseries and grocery shopping nearby. Included in the rental price, also for long stays, are free high speed internet, pay TV, heating and electricity costs. Music sound system with Bluetooth connection in all rooms. The apartment is fully equipped including kitch\n",
            "Predicted:  171.46698 Actual:  130.0 \n",
            "\n",
            "Light, airy and quiet place with stunning \"park\" view through huge window and from spacey balcony. Cosy athmosphere and oasis. Located in the middle of Wedding (Brunnenkiez and Soldienerkiez) Pankow (Florastr.) and a leap to Prenzlauer Berg. Awesome jungle walks along \"the Panke\" (river).\n",
            "Predicted:  32.859547 Actual:  25.0 \n",
            "\n"
          ],
          "name": "stdout"
        }
      ]
    },
    {
      "cell_type": "code",
      "metadata": {
        "id": "NhrB17Yu-yYB",
        "colab": {
          "base_uri": "https://localhost:8080/"
        },
        "outputId": "14637569-deea-4028-9685-701f5bc38027"
      },
      "source": [
        "print('Average prediction difference: ', diff / num_predictions)"
      ],
      "execution_count": null,
      "outputs": [
        {
          "output_type": "stream",
          "text": [
            "Average prediction difference:  17.80019521713257\n"
          ],
          "name": "stdout"
        }
      ]
    },
    {
      "cell_type": "markdown",
      "metadata": {
        "id": "l0UiVkudrLhU"
      },
      "source": [
        "## Pickling Model"
      ]
    },
    {
      "cell_type": "code",
      "metadata": {
        "id": "vpilytFAwCef"
      },
      "source": [
        "import pickle\n",
        "from pickle import dump"
      ],
      "execution_count": null,
      "outputs": []
    },
    {
      "cell_type": "code",
      "metadata": {
        "id": "Kuxz-SbUrNIK"
      },
      "source": [
        "from keras.models import load_model\n",
        "\n",
        "combined_model.save('best_model.h5')"
      ],
      "execution_count": null,
      "outputs": []
    },
    {
      "cell_type": "code",
      "metadata": {
        "id": "81oAcQBrJJVA"
      },
      "source": [
        ""
      ],
      "execution_count": null,
      "outputs": []
    },
    {
      "cell_type": "markdown",
      "metadata": {
        "id": "Osn0U2PekDr2"
      },
      "source": [
        "## Miscellanous Code from Experimentation Stage"
      ]
    },
    {
      "cell_type": "code",
      "metadata": {
        "id": "MwMlHYU2ENED"
      },
      "source": [
        "####################"
      ],
      "execution_count": null,
      "outputs": []
    },
    {
      "cell_type": "code",
      "metadata": {
        "id": "OxEbvD6FG6Ai"
      },
      "source": [
        "# train_size = int(len(listings) * .8)\n",
        "\n",
        "# # Train features\n",
        "# description_train = listings['description'][:train_size]\n",
        "# # variety_train = listings['test_amenities'][:train_size]\n",
        "\n",
        "# # Train labels\n",
        "# labels_train = listings['price'][:train_size]\n",
        "\n",
        "# # Test features\n",
        "# description_test = listings['description'][train_size:]\n",
        "# # variety_test = listings['test_amenities'][train_size:]\n",
        "\n",
        "# # Test labels\n",
        "# labels_test = listings['price'][train_size:]"
      ],
      "execution_count": null,
      "outputs": []
    },
    {
      "cell_type": "code",
      "metadata": {
        "id": "gebiUWTBHGok"
      },
      "source": [
        "# vocab_size = 20000\n",
        "# tokenize = keras.preprocessing.text.Tokenizer(num_words=vocab_size, char_level=False)\n",
        "# tokenize.fit_on_texts(description_train)"
      ],
      "execution_count": null,
      "outputs": []
    },
    {
      "cell_type": "code",
      "metadata": {
        "id": "-Dwk04kSHKgE"
      },
      "source": [
        "# description_bow_train = tokenize.texts_to_matrix(description_train)\n",
        "# description_bow_test = tokenize.texts_to_matrix(description_test)"
      ],
      "execution_count": null,
      "outputs": []
    },
    {
      "cell_type": "code",
      "metadata": {
        "id": "I424upJ3HOoA"
      },
      "source": [
        "# # Hyperparameter tuning\n",
        "# logdir = os.path.join(\"logs\", \"EarlyStopping-loss\")\n",
        "# tb_callback = TensorBoard(logdir, histogram_freq=3)\n",
        "# stop = EarlyStopping(monitor='loss',\n",
        "#                      min_delta=0.0184,\n",
        "#                      patience=2)"
      ],
      "execution_count": null,
      "outputs": []
    },
    {
      "cell_type": "code",
      "metadata": {
        "id": "aIcYMg5bIlwO"
      },
      "source": [
        "# train_embed = tokenize.texts_to_sequences(description_train)\n",
        "# test_embed = tokenize.texts_to_sequences(description_test)\n",
        "\n",
        "# max_seq_length = 250\n",
        "# train_embed = keras.preprocessing.sequence.pad_sequences(\n",
        "#     train_embed, maxlen=max_seq_length, padding=\"post\")\n",
        "# test_embed = keras.preprocessing.sequence.pad_sequences(\n",
        "#     test_embed, maxlen=max_seq_length, padding=\"post\")"
      ],
      "execution_count": null,
      "outputs": []
    },
    {
      "cell_type": "code",
      "metadata": {
        "id": "MNLTCEqWIpnm"
      },
      "source": [
        "# deep_inputs = layers.Input(shape=(max_seq_length))\n",
        "# # input layer\n",
        "# embedding = layers.Embedding(vocab_size, 15, input_length=max_seq_length)(deep_inputs)\n",
        "\n",
        "# # hidden layers\n",
        "# embedding = layers.Flatten()(embedding)\n",
        "# embed_out = layers.Dense(1)(embedding)\n",
        "# # model = tf.expand_dims(embed_out, axis=-1)\n",
        "# embed_out = layers.LSTM(32, activation=\"relu\")\n",
        "# embed_out = layers.Dense(52, activation=\"relu\")(embedding)\n",
        "# embed_out = layers.Dense(256, activation=\"relu\")(embedding)\n",
        "# # embed_out = layers.Dense(256, activation=\"relu\")(embedding)\n",
        "\n",
        "\n",
        "# # output layer\n",
        "# embed_out = layers.Dense(896, activation=\"relu\")(embedding)\n",
        "# deep_model = keras.Model(inputs=deep_inputs, outputs=embed_out)\n",
        "# print(deep_model.summary())"
      ],
      "execution_count": null,
      "outputs": []
    },
    {
      "cell_type": "code",
      "metadata": {
        "id": "0yyiqt3UIqpP"
      },
      "source": [
        "# deep_model.compile(loss='mse',\n",
        "#                        optimizer='adam',\n",
        "#                        metrics=['accuracy'])"
      ],
      "execution_count": null,
      "outputs": []
    },
    {
      "cell_type": "code",
      "metadata": {
        "id": "9YyHoD_xBNMx"
      },
      "source": [
        "# deep_model.fit(train_embed,\n",
        "#               labels_train, epochs=20, batch_size=32,\n",
        "#                callbacks=[tb_callback, stop],\n",
        "#                verbose=2)"
      ],
      "execution_count": null,
      "outputs": []
    },
    {
      "cell_type": "code",
      "metadata": {
        "id": "2r2JOnZzEjLM"
      },
      "source": [
        "# deep_model.evaluate(test_embed, \n",
        "#                     labels_test, \n",
        "#                     batch_size=250, verbose=2)"
      ],
      "execution_count": null,
      "outputs": []
    },
    {
      "cell_type": "code",
      "metadata": {
        "id": "iHvSxcLlEj0B"
      },
      "source": [
        "# predictions1 = deep_model.predict([test_embed])"
      ],
      "execution_count": null,
      "outputs": []
    },
    {
      "cell_type": "code",
      "metadata": {
        "id": "-I3sqjl0FPYZ"
      },
      "source": [
        "# num_predictions = 40\n",
        "# diff = 0\n",
        "\n",
        "# for i in range(num_predictions):\n",
        "#     val = predictions1[i]\n",
        "#     print(description_test.iloc[i])\n",
        "#     print('Predicted: ', val[0], 'Actual: ', labels_test.iloc[i], '\\n')\n",
        "#     diff += abs(val[0] - labels_test.iloc[i])"
      ],
      "execution_count": null,
      "outputs": []
    },
    {
      "cell_type": "code",
      "metadata": {
        "id": "xntJhSLPEmU1"
      },
      "source": [
        "###############################"
      ],
      "execution_count": null,
      "outputs": []
    },
    {
      "cell_type": "code",
      "metadata": {
        "id": "4pHZxBdCIufS"
      },
      "source": [
        "# merged_out = layers.concatenate([wide_model.output, deep_model.output])\n",
        "# merged_out = layers.Dense(1)(merged_out)\n",
        "# combined_model = keras.Model(wide_model.input + [deep_model.input], merged_out)\n",
        "# print(combined_model.summary())\n",
        "\n",
        "# combined_model.compile(loss='mse',\n",
        "#                        optimizer='nadam',\n",
        "#                        metrics=['accuracy'])"
      ],
      "execution_count": null,
      "outputs": []
    },
    {
      "cell_type": "code",
      "metadata": {
        "id": "vyd_FG1DIvwk"
      },
      "source": [
        "# combined_model.fit([description_bow_train, variety_train] + [train_embed], \n",
        "#                    labels_train, epochs=20, batch_size=32, \n",
        "#                     callbacks=[tb_callback, stop], verbose=2)"
      ],
      "execution_count": null,
      "outputs": []
    },
    {
      "cell_type": "code",
      "metadata": {
        "id": "zMvwASN8KiTQ"
      },
      "source": [
        "# deep_model.evaluate([description_bow_test, variety_test] + [test_embed], \n",
        "#                         labels_test, batch_size=128, verbose=2)"
      ],
      "execution_count": null,
      "outputs": []
    },
    {
      "cell_type": "code",
      "metadata": {
        "id": "-urVt8aZKnPY"
      },
      "source": [
        "# predictions = deep_model.predict([description_bow_test, variety_test] + [test_embed])"
      ],
      "execution_count": null,
      "outputs": []
    },
    {
      "cell_type": "code",
      "metadata": {
        "id": "OvRCdbNhKrZ8"
      },
      "source": [
        "# num_predictions = 40\n",
        "# diff = 0\n",
        "\n",
        "# for i in range(num_predictions):\n",
        "#     val = predictions[i]\n",
        "#     print(description_test.iloc[i])\n",
        "#     print('Predicted: ', val[0], 'Actual: ', labels_test.iloc[i], '\\n')\n",
        "#     diff += abs(val[0] - labels_test.iloc[i])"
      ],
      "execution_count": null,
      "outputs": []
    },
    {
      "cell_type": "code",
      "metadata": {
        "id": "dcH3wSG8XL1z"
      },
      "source": [
        "# from tensorflow.keras.models import Sequential\n",
        "\n",
        "# from tensorflow.keras.optimizers import SGD, Adam, Adadelta, Adagrad, Adamax, Ftrl, Nadam\n",
        "# from tensorflow.keras.layers import Dense\n",
        "# import tensorflow.keras.backend as K\n",
        "# import tensorflow as tf"
      ],
      "execution_count": null,
      "outputs": []
    },
    {
      "cell_type": "code",
      "metadata": {
        "id": "OYvVU2VafP03"
      },
      "source": [
        ""
      ],
      "execution_count": null,
      "outputs": []
    },
    {
      "cell_type": "code",
      "metadata": {
        "id": "hWB_dpyZXOx3"
      },
      "source": [
        "# def customize_relu(alpha):\n",
        "#   return lambda x: tf.keras.activations.relu(x, alpha=alpha)"
      ],
      "execution_count": null,
      "outputs": []
    },
    {
      "cell_type": "code",
      "metadata": {
        "id": "laciojEJXRoH"
      },
      "source": [
        "# def create_model(hp):\n",
        "\n",
        "\n",
        "#   model = Sequential()\n",
        "\n",
        "#   hp_units = hp.Int('units', 32, 512, 32)\n",
        "  \n",
        "#   alphas  = hp.Float('relu_alphas', 0.0, 0.1, 0.02)\n",
        "  \n",
        "#   for i in range(hp.Int('num_layers', 2, 20)):\n",
        "#     model.add(Dense(units=hp_units,\n",
        "#                     activation=customize_relu(alphas)))\n",
        "    \n",
        "#   lrs = hp.Choice('learning_rate',\n",
        "#                    values=[.001, .01, .1]\n",
        "#                   )\n",
        "#   optimizer_choices = hp.Choice('optimizer',\n",
        "#                                 ['Adadelta', 'Adagrad',\n",
        "#                                   'Adamax', 'Ftrl', 'Nadam'])\n",
        "   \n",
        "#   optimizer = eval(f'{optimizer_choices}(learning_rate={lrs})')\n",
        "  \n",
        "\n",
        "#   model.add(Dense(10, activation='softmax'))\n",
        "\n",
        "\n",
        "#   # model compiling\n",
        "#   model.compile(optimizer=optimizer,\n",
        "#                 loss='sparse_categorical_crossentropy',\n",
        "#                 metrics=['accuracy'])\n",
        "\n",
        "#   return model"
      ],
      "execution_count": null,
      "outputs": []
    },
    {
      "cell_type": "code",
      "metadata": {
        "id": "zr2pzQkGXVNM"
      },
      "source": [
        "# !pip install keras-tuner"
      ],
      "execution_count": null,
      "outputs": []
    },
    {
      "cell_type": "code",
      "metadata": {
        "id": "UyUw-oOUXYeD"
      },
      "source": [
        "# from tensorflow import keras\n",
        "# from tensorflow.keras import layers\n",
        "# from kerastuner.tuners import RandomSearch"
      ],
      "execution_count": null,
      "outputs": []
    },
    {
      "cell_type": "code",
      "metadata": {
        "id": "nuBGZAdHhc3e"
      },
      "source": [
        "# !pip install category_encoders\n",
        "# import matplotlib.pyplot as plt\n",
        "# import numpy as np\n",
        "# import pandas as pd\n",
        "# import seaborn as sns\n",
        "# from sklearn.impute import SimpleImputer\n",
        "# from sklearn.metrics import accuracy_score\n",
        "# from sklearn.model_selection import train_test_split\n",
        "# from sklearn.pipeline import make_pipeline\n",
        "# from sklearn.ensemble import RandomForestClassifier\n",
        "# from category_encoders import OneHotEncoder, OrdinalEncoder\n",
        "# from sklearn.tree import DecisionTreeClassifier\n",
        "# from sklearn.feature_selection import SelectKBest\n",
        "# from sklearn.model_selection import GridSearchCV\n",
        "# from sklearn.ensemble import RandomForestClassifier"
      ],
      "execution_count": null,
      "outputs": []
    },
    {
      "cell_type": "code",
      "metadata": {
        "id": "7g8VFikVfe4Z"
      },
      "source": [
        "# X_train = listings.drop(['price', 'description', 'amenities'], axis=1)[:train_size]"
      ],
      "execution_count": null,
      "outputs": []
    },
    {
      "cell_type": "code",
      "metadata": {
        "id": "zKq160nSfvMl"
      },
      "source": [
        "# y_train = listings['price'][:train_size]"
      ],
      "execution_count": null,
      "outputs": []
    },
    {
      "cell_type": "code",
      "metadata": {
        "id": "oxxAHwegfzPb"
      },
      "source": [
        "# X_test = listings.drop(['price', 'description', 'amenities'], axis=1)[train_size:]\n",
        "# y_test = listings['price'][train_size:]"
      ],
      "execution_count": null,
      "outputs": []
    },
    {
      "cell_type": "code",
      "metadata": {
        "id": "p9U1nXFwiEW_"
      },
      "source": [
        "# model = make_pipeline(\n",
        "#     OneHotEncoder(use_cat_names=True),\n",
        "#     SimpleImputer(),\n",
        "#     DecisionTreeClassifier(random_state=42)\n",
        "# )\n",
        "\n",
        "# model.fit(X_train, y_train);"
      ],
      "execution_count": null,
      "outputs": []
    },
    {
      "cell_type": "code",
      "metadata": {
        "id": "qsEnrbwFiJzI"
      },
      "source": [
        "# training_acc = model.score(X_train, y_train)\n",
        "# validation_acc = model.score(X_test, y_test)\n",
        "# print('Training Accuracy Score:', training_acc)\n",
        "# print('Validation Accuracy Score:', validation_acc)"
      ],
      "execution_count": null,
      "outputs": []
    },
    {
      "cell_type": "code",
      "metadata": {
        "id": "OkDTY10qXfKR"
      },
      "source": [
        "# tuner = RandomSearch(\n",
        "#     create_model,\n",
        "#     objective='val_accuracy',\n",
        "#     max_trials=5,\n",
        "#     executions_per_trial=3,\n",
        "#     directory='./',\n",
        "#     project_name='final')"
      ],
      "execution_count": null,
      "outputs": []
    },
    {
      "cell_type": "code",
      "metadata": {
        "id": "apDIgndxXkfj"
      },
      "source": [
        "# tuner.search_space_summary()"
      ],
      "execution_count": null,
      "outputs": []
    },
    {
      "cell_type": "code",
      "metadata": {
        "id": "_MssNCltXlzd"
      },
      "source": [
        "# tuner.search(X_train, y_train,\n",
        "#              epochs=5,\n",
        "#              validation_data=(X_test, y_test))"
      ],
      "execution_count": null,
      "outputs": []
    }
  ]
}